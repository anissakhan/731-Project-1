{
 "cells": [
  {
   "cell_type": "code",
   "execution_count": 184,
   "metadata": {},
   "outputs": [],
   "source": [
    "import numpy as np"
   ]
  },
  {
   "cell_type": "code",
   "execution_count": 185,
   "metadata": {},
   "outputs": [],
   "source": [
    "import pandas as pd"
   ]
  },
  {
   "cell_type": "code",
   "execution_count": 186,
   "metadata": {},
   "outputs": [],
   "source": [
    "df2014=pd.read_csv(\"file://localhost/Users/anissakhan/Dropbox/Nissa_stuff/KU_CS/EECS731/731-Project-1/Data/718_1342_bundle_archive/2014.csv\")"
   ]
  },
  {
   "cell_type": "code",
   "execution_count": 187,
   "metadata": {},
   "outputs": [],
   "source": [
    "df2015=pd.read_csv(\"file://localhost/Users/anissakhan/Dropbox/Nissa_stuff/KU_CS/EECS731/731-Project-1/Data/718_1342_bundle_archive/2015.csv\")"
   ]
  },
  {
   "cell_type": "code",
   "execution_count": 188,
   "metadata": {},
   "outputs": [],
   "source": [
    "dfKey=pd.read_csv(\"file://localhost/Users/anissakhan/Dropbox/Nissa_stuff/KU_CS/EECS731/731-Project-1/Data/718_1342_bundle_archive/dictionary.csv\")"
   ]
  },
  {
   "cell_type": "code",
   "execution_count": 189,
   "metadata": {},
   "outputs": [],
   "source": [
    "dfCancer=pd.read_csv(\"file://localhost/Users/anissakhan/Dropbox/Nissa_stuff/KU_CS/EECS731/731-Project-1/Data/cancer_incidence_by_county.csv\")"
   ]
  },
  {
   "cell_type": "markdown",
   "metadata": {},
   "source": [
    "Create a data set that merges the 2014 and 2015 dataset (merged vertically).\n",
    "I used ignore_index=True so that the index would not repeat across the 2 datasets."
   ]
  },
  {
   "cell_type": "code",
   "execution_count": 190,
   "metadata": {},
   "outputs": [],
   "source": [
    "frames = [df2014, df2015]"
   ]
  },
  {
   "cell_type": "code",
   "execution_count": 191,
   "metadata": {},
   "outputs": [],
   "source": [
    "dfPestNoKey = pd.concat(frames, ignore_index=True)"
   ]
  },
  {
   "cell_type": "markdown",
   "metadata": {},
   "source": [
    "Check how many unique county names between Pesticide dataset (dfKey) and Cancer dataset (dfCancer)"
   ]
  },
  {
   "cell_type": "code",
   "execution_count": 192,
   "metadata": {},
   "outputs": [
    {
     "data": {
      "text/plain": [
       "1969"
      ]
     },
     "execution_count": 192,
     "metadata": {},
     "output_type": "execute_result"
    }
   ],
   "source": [
    "dfKey.COUNTY.nunique()"
   ]
  },
  {
   "cell_type": "code",
   "execution_count": 193,
   "metadata": {},
   "outputs": [
    {
     "data": {
      "text/plain": [
       "2084"
      ]
     },
     "execution_count": 193,
     "metadata": {},
     "output_type": "execute_result"
    }
   ],
   "source": [
    "dfCancer.county.nunique()"
   ]
  },
  {
   "cell_type": "markdown",
   "metadata": {},
   "source": [
    "Merge Pesticide dataset with its State and County names"
   ]
  },
  {
   "cell_type": "code",
   "execution_count": 194,
   "metadata": {},
   "outputs": [],
   "source": [
    "dfPest=pd.merge(dfPestNoKey, dfKey, left_on=['COUNTY_CODE', 'STATE_CODE'], right_on=['COUNTY_CODE', 'STATE_CODE'])"
   ]
  },
  {
   "cell_type": "code",
   "execution_count": 195,
   "metadata": {},
   "outputs": [
    {
     "data": {
      "text/html": [
       "<div>\n",
       "<style scoped>\n",
       "    .dataframe tbody tr th:only-of-type {\n",
       "        vertical-align: middle;\n",
       "    }\n",
       "\n",
       "    .dataframe tbody tr th {\n",
       "        vertical-align: top;\n",
       "    }\n",
       "\n",
       "    .dataframe thead th {\n",
       "        text-align: right;\n",
       "    }\n",
       "</style>\n",
       "<table border=\"1\" class=\"dataframe\">\n",
       "  <thead>\n",
       "    <tr style=\"text-align: right;\">\n",
       "      <th></th>\n",
       "      <th>COMPOUND</th>\n",
       "      <th>YEAR</th>\n",
       "      <th>STATE_CODE</th>\n",
       "      <th>COUNTY_CODE</th>\n",
       "      <th>LOW_ESTIMATE</th>\n",
       "      <th>HIGH_ESTIMATE</th>\n",
       "      <th>COUNTY</th>\n",
       "      <th>STATE</th>\n",
       "    </tr>\n",
       "  </thead>\n",
       "  <tbody>\n",
       "    <tr>\n",
       "      <th>0</th>\n",
       "      <td>2,4-D</td>\n",
       "      <td>2014</td>\n",
       "      <td>1</td>\n",
       "      <td>1</td>\n",
       "      <td>1698.6</td>\n",
       "      <td>1885.5</td>\n",
       "      <td>Autauga County</td>\n",
       "      <td>AL</td>\n",
       "    </tr>\n",
       "    <tr>\n",
       "      <th>1</th>\n",
       "      <td>2,4-DB</td>\n",
       "      <td>2014</td>\n",
       "      <td>1</td>\n",
       "      <td>1</td>\n",
       "      <td>82.8</td>\n",
       "      <td>264.3</td>\n",
       "      <td>Autauga County</td>\n",
       "      <td>AL</td>\n",
       "    </tr>\n",
       "    <tr>\n",
       "      <th>2</th>\n",
       "      <td>Abamectin</td>\n",
       "      <td>2014</td>\n",
       "      <td>1</td>\n",
       "      <td>1</td>\n",
       "      <td>8.6</td>\n",
       "      <td>8.9</td>\n",
       "      <td>Autauga County</td>\n",
       "      <td>AL</td>\n",
       "    </tr>\n",
       "    <tr>\n",
       "      <th>3</th>\n",
       "      <td>Acephate</td>\n",
       "      <td>2014</td>\n",
       "      <td>1</td>\n",
       "      <td>1</td>\n",
       "      <td>707.9</td>\n",
       "      <td>707.9</td>\n",
       "      <td>Autauga County</td>\n",
       "      <td>AL</td>\n",
       "    </tr>\n",
       "    <tr>\n",
       "      <th>4</th>\n",
       "      <td>Acetochlor</td>\n",
       "      <td>2014</td>\n",
       "      <td>1</td>\n",
       "      <td>1</td>\n",
       "      <td>649.5</td>\n",
       "      <td>859.5</td>\n",
       "      <td>Autauga County</td>\n",
       "      <td>AL</td>\n",
       "    </tr>\n",
       "    <tr>\n",
       "      <th>...</th>\n",
       "      <td>...</td>\n",
       "      <td>...</td>\n",
       "      <td>...</td>\n",
       "      <td>...</td>\n",
       "      <td>...</td>\n",
       "      <td>...</td>\n",
       "      <td>...</td>\n",
       "      <td>...</td>\n",
       "    </tr>\n",
       "    <tr>\n",
       "      <th>762191</th>\n",
       "      <td>Esfenvalerate</td>\n",
       "      <td>2014</td>\n",
       "      <td>6</td>\n",
       "      <td>105</td>\n",
       "      <td>0.5</td>\n",
       "      <td>0.5</td>\n",
       "      <td>Trinity County</td>\n",
       "      <td>CA</td>\n",
       "    </tr>\n",
       "    <tr>\n",
       "      <th>762192</th>\n",
       "      <td>Glyphosate</td>\n",
       "      <td>2014</td>\n",
       "      <td>6</td>\n",
       "      <td>105</td>\n",
       "      <td>155.5</td>\n",
       "      <td>155.5</td>\n",
       "      <td>Trinity County</td>\n",
       "      <td>CA</td>\n",
       "    </tr>\n",
       "    <tr>\n",
       "      <th>762193</th>\n",
       "      <td>Imazapyr</td>\n",
       "      <td>2014</td>\n",
       "      <td>6</td>\n",
       "      <td>105</td>\n",
       "      <td>8.8</td>\n",
       "      <td>8.8</td>\n",
       "      <td>Trinity County</td>\n",
       "      <td>CA</td>\n",
       "    </tr>\n",
       "    <tr>\n",
       "      <th>762194</th>\n",
       "      <td>Petroleum Oil</td>\n",
       "      <td>2014</td>\n",
       "      <td>6</td>\n",
       "      <td>105</td>\n",
       "      <td>3.2</td>\n",
       "      <td>3.2</td>\n",
       "      <td>Trinity County</td>\n",
       "      <td>CA</td>\n",
       "    </tr>\n",
       "    <tr>\n",
       "      <th>762195</th>\n",
       "      <td>Phosmet</td>\n",
       "      <td>2014</td>\n",
       "      <td>6</td>\n",
       "      <td>105</td>\n",
       "      <td>1.2</td>\n",
       "      <td>1.2</td>\n",
       "      <td>Trinity County</td>\n",
       "      <td>CA</td>\n",
       "    </tr>\n",
       "  </tbody>\n",
       "</table>\n",
       "<p>762196 rows × 8 columns</p>\n",
       "</div>"
      ],
      "text/plain": [
       "             COMPOUND  YEAR  STATE_CODE  COUNTY_CODE  LOW_ESTIMATE  \\\n",
       "0               2,4-D  2014           1            1        1698.6   \n",
       "1              2,4-DB  2014           1            1          82.8   \n",
       "2           Abamectin  2014           1            1           8.6   \n",
       "3            Acephate  2014           1            1         707.9   \n",
       "4          Acetochlor  2014           1            1         649.5   \n",
       "...               ...   ...         ...          ...           ...   \n",
       "762191  Esfenvalerate  2014           6          105           0.5   \n",
       "762192     Glyphosate  2014           6          105         155.5   \n",
       "762193       Imazapyr  2014           6          105           8.8   \n",
       "762194  Petroleum Oil  2014           6          105           3.2   \n",
       "762195        Phosmet  2014           6          105           1.2   \n",
       "\n",
       "        HIGH_ESTIMATE          COUNTY STATE  \n",
       "0              1885.5  Autauga County    AL  \n",
       "1               264.3  Autauga County    AL  \n",
       "2                 8.9  Autauga County    AL  \n",
       "3               707.9  Autauga County    AL  \n",
       "4               859.5  Autauga County    AL  \n",
       "...               ...             ...   ...  \n",
       "762191            0.5  Trinity County    CA  \n",
       "762192          155.5  Trinity County    CA  \n",
       "762193            8.8  Trinity County    CA  \n",
       "762194            3.2  Trinity County    CA  \n",
       "762195            1.2  Trinity County    CA  \n",
       "\n",
       "[762196 rows x 8 columns]"
      ]
     },
     "execution_count": 195,
     "metadata": {},
     "output_type": "execute_result"
    }
   ],
   "source": [
    "dfPest"
   ]
  },
  {
   "cell_type": "markdown",
   "metadata": {},
   "source": [
    "Rename Column names for state code (from STATE_CODE to stateFIPS) and county name (from COUNTY to county) to match the other dataset"
   ]
  },
  {
   "cell_type": "code",
   "execution_count": 196,
   "metadata": {},
   "outputs": [
    {
     "data": {
      "text/plain": [
       "Index(['COMPOUND', 'YEAR', 'STATE_CODE', 'COUNTY_CODE', 'LOW_ESTIMATE',\n",
       "       'HIGH_ESTIMATE', 'COUNTY', 'STATE'],\n",
       "      dtype='object')"
      ]
     },
     "execution_count": 196,
     "metadata": {},
     "output_type": "execute_result"
    }
   ],
   "source": [
    "dfPest.columns"
   ]
  },
  {
   "cell_type": "code",
   "execution_count": 197,
   "metadata": {},
   "outputs": [],
   "source": [
    "dfPest.columns=['COMPOUND', 'YEAR', 'stateFIPS', 'COUNTY_CODE', 'LOW_ESTIMATE',\n",
    "       'HIGH_ESTIMATE', 'county', 'STATE']"
   ]
  },
  {
   "cell_type": "markdown",
   "metadata": {},
   "source": [
    "Check the datatype to verify ability to merge"
   ]
  },
  {
   "cell_type": "code",
   "execution_count": 198,
   "metadata": {},
   "outputs": [
    {
     "data": {
      "text/plain": [
       "COMPOUND          object\n",
       "YEAR               int64\n",
       "stateFIPS          int64\n",
       "COUNTY_CODE        int64\n",
       "LOW_ESTIMATE     float64\n",
       "HIGH_ESTIMATE    float64\n",
       "county            object\n",
       "STATE             object\n",
       "dtype: object"
      ]
     },
     "execution_count": 198,
     "metadata": {},
     "output_type": "execute_result"
    }
   ],
   "source": [
    "dfPest.dtypes"
   ]
  },
  {
   "cell_type": "code",
   "execution_count": 199,
   "metadata": {},
   "outputs": [
    {
     "data": {
      "text/plain": [
       "Unnamed: 0                                   int64\n",
       "county                                      object\n",
       "incidence_rate_per_100k                     object\n",
       "avg_annual_count                            object\n",
       "recent_trend                                object\n",
       "five_year_incidence_change_rate             object\n",
       "stateFIPS                                    int64\n",
       "incidence_rate_per_100k_low_95             float64\n",
       "incidence_rate_per_100k_high_95            float64\n",
       "five_year_incidence_change_rate_low_95     float64\n",
       "five_year_incidence_change_rate_high_95    float64\n",
       "dtype: object"
      ]
     },
     "execution_count": 199,
     "metadata": {},
     "output_type": "execute_result"
    }
   ],
   "source": [
    "dfCancer.dtypes"
   ]
  },
  {
   "cell_type": "markdown",
   "metadata": {},
   "source": [
    "Convert county from object to string for both datasets to enable merge on county name (since cancer dataset doesn't have a county code, we can't use county code for merge)"
   ]
  },
  {
   "cell_type": "code",
   "execution_count": 200,
   "metadata": {},
   "outputs": [],
   "source": [
    "dfCancer['county'] = dfCancer['county'].astype(\"string\")"
   ]
  },
  {
   "cell_type": "code",
   "execution_count": 201,
   "metadata": {},
   "outputs": [],
   "source": [
    "dfPest['county'] = dfPest['county'].astype(\"string\")"
   ]
  },
  {
   "cell_type": "markdown",
   "metadata": {},
   "source": [
    "Verify type of county is now a string"
   ]
  },
  {
   "cell_type": "code",
   "execution_count": 202,
   "metadata": {},
   "outputs": [
    {
     "data": {
      "text/plain": [
       "Unnamed: 0                                   int64\n",
       "county                                      string\n",
       "incidence_rate_per_100k                     object\n",
       "avg_annual_count                            object\n",
       "recent_trend                                object\n",
       "five_year_incidence_change_rate             object\n",
       "stateFIPS                                    int64\n",
       "incidence_rate_per_100k_low_95             float64\n",
       "incidence_rate_per_100k_high_95            float64\n",
       "five_year_incidence_change_rate_low_95     float64\n",
       "five_year_incidence_change_rate_high_95    float64\n",
       "dtype: object"
      ]
     },
     "execution_count": 202,
     "metadata": {},
     "output_type": "execute_result"
    }
   ],
   "source": [
    "dfCancer.dtypes"
   ]
  },
  {
   "cell_type": "code",
   "execution_count": 203,
   "metadata": {},
   "outputs": [
    {
     "data": {
      "text/plain": [
       "COMPOUND          object\n",
       "YEAR               int64\n",
       "stateFIPS          int64\n",
       "COUNTY_CODE        int64\n",
       "LOW_ESTIMATE     float64\n",
       "HIGH_ESTIMATE    float64\n",
       "county            string\n",
       "STATE             object\n",
       "dtype: object"
      ]
     },
     "execution_count": 203,
     "metadata": {},
     "output_type": "execute_result"
    }
   ],
   "source": [
    "dfPest.dtypes"
   ]
  },
  {
   "cell_type": "markdown",
   "metadata": {},
   "source": [
    "Strip extra spaces at the end of dfCancer.county string (used dfCancer.county = dfCancer.county.str.encode(\n",
    "'utf-8') and dfPest.county=dfPest.county.str.encode('utf-8') to verify whether or not the strings were the same. The dfCancer string had extra spaces at the end of its string; therefore I stripped those spaces using the following command:"
   ]
  },
  {
   "cell_type": "code",
   "execution_count": 204,
   "metadata": {},
   "outputs": [],
   "source": [
    "dfCancer.county = dfCancer.county.str.strip()"
   ]
  },
  {
   "cell_type": "markdown",
   "metadata": {},
   "source": [
    "Create a dataset from the Pesticide dataset. Select only the pesticide Glyphosate for the year 2014 for ease of analysis."
   ]
  },
  {
   "cell_type": "code",
   "execution_count": 205,
   "metadata": {},
   "outputs": [],
   "source": [
    "dfGlyph2014=dfPest.query(\"COMPOUND == 'Glyphosate' and YEAR == 2014\")[['COMPOUND', 'YEAR', 'stateFIPS', 'COUNTY_CODE', 'LOW_ESTIMATE',\n",
    "       'HIGH_ESTIMATE', 'county', 'STATE']]"
   ]
  },
  {
   "cell_type": "code",
   "execution_count": 206,
   "metadata": {},
   "outputs": [],
   "source": [
    "df2014Combined=pd.merge(dfGlyph2014, dfCancer, left_on=['county', 'stateFIPS'], right_on=['county', 'stateFIPS'])"
   ]
  },
  {
   "cell_type": "code",
   "execution_count": 207,
   "metadata": {},
   "outputs": [
    {
     "data": {
      "text/plain": [
       "COMPOUND                                    object\n",
       "YEAR                                         int64\n",
       "stateFIPS                                    int64\n",
       "COUNTY_CODE                                  int64\n",
       "LOW_ESTIMATE                               float64\n",
       "HIGH_ESTIMATE                              float64\n",
       "county                                      string\n",
       "STATE                                       object\n",
       "Unnamed: 0                                   int64\n",
       "incidence_rate_per_100k                     object\n",
       "avg_annual_count                            object\n",
       "recent_trend                                object\n",
       "five_year_incidence_change_rate             object\n",
       "incidence_rate_per_100k_low_95             float64\n",
       "incidence_rate_per_100k_high_95            float64\n",
       "five_year_incidence_change_rate_low_95     float64\n",
       "five_year_incidence_change_rate_high_95    float64\n",
       "dtype: object"
      ]
     },
     "execution_count": 207,
     "metadata": {},
     "output_type": "execute_result"
    }
   ],
   "source": [
    "df2014Combined.dtypes"
   ]
  },
  {
   "cell_type": "code",
   "execution_count": 208,
   "metadata": {},
   "outputs": [
    {
     "data": {
      "text/html": [
       "<div>\n",
       "<style scoped>\n",
       "    .dataframe tbody tr th:only-of-type {\n",
       "        vertical-align: middle;\n",
       "    }\n",
       "\n",
       "    .dataframe tbody tr th {\n",
       "        vertical-align: top;\n",
       "    }\n",
       "\n",
       "    .dataframe thead th {\n",
       "        text-align: right;\n",
       "    }\n",
       "</style>\n",
       "<table border=\"1\" class=\"dataframe\">\n",
       "  <thead>\n",
       "    <tr style=\"text-align: right;\">\n",
       "      <th></th>\n",
       "      <th>COMPOUND</th>\n",
       "      <th>YEAR</th>\n",
       "      <th>stateFIPS</th>\n",
       "      <th>COUNTY_CODE</th>\n",
       "      <th>LOW_ESTIMATE</th>\n",
       "      <th>HIGH_ESTIMATE</th>\n",
       "      <th>county</th>\n",
       "      <th>STATE</th>\n",
       "      <th>Unnamed: 0</th>\n",
       "      <th>incidence_rate_per_100k</th>\n",
       "      <th>avg_annual_count</th>\n",
       "      <th>recent_trend</th>\n",
       "      <th>five_year_incidence_change_rate</th>\n",
       "      <th>incidence_rate_per_100k_low_95</th>\n",
       "      <th>incidence_rate_per_100k_high_95</th>\n",
       "      <th>five_year_incidence_change_rate_low_95</th>\n",
       "      <th>five_year_incidence_change_rate_high_95</th>\n",
       "    </tr>\n",
       "  </thead>\n",
       "  <tbody>\n",
       "    <tr>\n",
       "      <th>0</th>\n",
       "      <td>Glyphosate</td>\n",
       "      <td>2014</td>\n",
       "      <td>1</td>\n",
       "      <td>1</td>\n",
       "      <td>11146.6</td>\n",
       "      <td>11219.2</td>\n",
       "      <td>Autauga County</td>\n",
       "      <td>AL</td>\n",
       "      <td>4</td>\n",
       "      <td>495.6</td>\n",
       "      <td>304</td>\n",
       "      <td>stable</td>\n",
       "      <td>-0.2</td>\n",
       "      <td>470.6</td>\n",
       "      <td>521.5</td>\n",
       "      <td>-9.0</td>\n",
       "      <td>9.6</td>\n",
       "    </tr>\n",
       "    <tr>\n",
       "      <th>1</th>\n",
       "      <td>Glyphosate</td>\n",
       "      <td>2014</td>\n",
       "      <td>1</td>\n",
       "      <td>3</td>\n",
       "      <td>115957.7</td>\n",
       "      <td>116239.7</td>\n",
       "      <td>Baldwin County</td>\n",
       "      <td>AL</td>\n",
       "      <td>41</td>\n",
       "      <td>445.0</td>\n",
       "      <td>1,189</td>\n",
       "      <td>stable</td>\n",
       "      <td>-2.0</td>\n",
       "      <td>433.4</td>\n",
       "      <td>456.8</td>\n",
       "      <td>-4.5</td>\n",
       "      <td>0.5</td>\n",
       "    </tr>\n",
       "    <tr>\n",
       "      <th>2</th>\n",
       "      <td>Glyphosate</td>\n",
       "      <td>2014</td>\n",
       "      <td>1</td>\n",
       "      <td>5</td>\n",
       "      <td>7994.1</td>\n",
       "      <td>7995.7</td>\n",
       "      <td>Barbour County</td>\n",
       "      <td>AL</td>\n",
       "      <td>53</td>\n",
       "      <td>429.8</td>\n",
       "      <td>145</td>\n",
       "      <td>stable</td>\n",
       "      <td>0.6</td>\n",
       "      <td>398.3</td>\n",
       "      <td>463.3</td>\n",
       "      <td>-7.8</td>\n",
       "      <td>9.7</td>\n",
       "    </tr>\n",
       "    <tr>\n",
       "      <th>3</th>\n",
       "      <td>Glyphosate</td>\n",
       "      <td>2014</td>\n",
       "      <td>1</td>\n",
       "      <td>7</td>\n",
       "      <td>215.5</td>\n",
       "      <td>215.5</td>\n",
       "      <td>Bibb County</td>\n",
       "      <td>AL</td>\n",
       "      <td>12</td>\n",
       "      <td>478.3</td>\n",
       "      <td>128</td>\n",
       "      <td>stable</td>\n",
       "      <td>-0.9</td>\n",
       "      <td>441.2</td>\n",
       "      <td>517.8</td>\n",
       "      <td>-11.6</td>\n",
       "      <td>11.1</td>\n",
       "    </tr>\n",
       "    <tr>\n",
       "      <th>4</th>\n",
       "      <td>Glyphosate</td>\n",
       "      <td>2014</td>\n",
       "      <td>1</td>\n",
       "      <td>9</td>\n",
       "      <td>6540.7</td>\n",
       "      <td>6652.1</td>\n",
       "      <td>Blount County</td>\n",
       "      <td>AL</td>\n",
       "      <td>46</td>\n",
       "      <td>440.0</td>\n",
       "      <td>317</td>\n",
       "      <td>stable</td>\n",
       "      <td>0.1</td>\n",
       "      <td>418.0</td>\n",
       "      <td>462.8</td>\n",
       "      <td>-5.0</td>\n",
       "      <td>5.5</td>\n",
       "    </tr>\n",
       "    <tr>\n",
       "      <th>...</th>\n",
       "      <td>...</td>\n",
       "      <td>...</td>\n",
       "      <td>...</td>\n",
       "      <td>...</td>\n",
       "      <td>...</td>\n",
       "      <td>...</td>\n",
       "      <td>...</td>\n",
       "      <td>...</td>\n",
       "      <td>...</td>\n",
       "      <td>...</td>\n",
       "      <td>...</td>\n",
       "      <td>...</td>\n",
       "      <td>...</td>\n",
       "      <td>...</td>\n",
       "      <td>...</td>\n",
       "      <td>...</td>\n",
       "      <td>...</td>\n",
       "    </tr>\n",
       "    <tr>\n",
       "      <th>2132</th>\n",
       "      <td>Glyphosate</td>\n",
       "      <td>2014</td>\n",
       "      <td>56</td>\n",
       "      <td>37</td>\n",
       "      <td>509.8</td>\n",
       "      <td>5855.7</td>\n",
       "      <td>Sweetwater County</td>\n",
       "      <td>WY</td>\n",
       "      <td>2993</td>\n",
       "      <td>387.8</td>\n",
       "      <td>162</td>\n",
       "      <td>stable</td>\n",
       "      <td>2.3</td>\n",
       "      <td>359.9</td>\n",
       "      <td>417.3</td>\n",
       "      <td>-3.9</td>\n",
       "      <td>8.8</td>\n",
       "    </tr>\n",
       "    <tr>\n",
       "      <th>2133</th>\n",
       "      <td>Glyphosate</td>\n",
       "      <td>2014</td>\n",
       "      <td>56</td>\n",
       "      <td>39</td>\n",
       "      <td>311.1</td>\n",
       "      <td>311.1</td>\n",
       "      <td>Teton County</td>\n",
       "      <td>WY</td>\n",
       "      <td>2987</td>\n",
       "      <td>420.4</td>\n",
       "      <td>98</td>\n",
       "      <td>stable</td>\n",
       "      <td>0.2</td>\n",
       "      <td>382.3</td>\n",
       "      <td>461.2</td>\n",
       "      <td>-17.3</td>\n",
       "      <td>21.5</td>\n",
       "    </tr>\n",
       "    <tr>\n",
       "      <th>2134</th>\n",
       "      <td>Glyphosate</td>\n",
       "      <td>2014</td>\n",
       "      <td>56</td>\n",
       "      <td>41</td>\n",
       "      <td>2639.5</td>\n",
       "      <td>2639.5</td>\n",
       "      <td>Uinta County</td>\n",
       "      <td>WY</td>\n",
       "      <td>2999</td>\n",
       "      <td>373.6</td>\n",
       "      <td>78</td>\n",
       "      <td>stable</td>\n",
       "      <td>-3.0</td>\n",
       "      <td>335.3</td>\n",
       "      <td>415.1</td>\n",
       "      <td>-13.9</td>\n",
       "      <td>9.2</td>\n",
       "    </tr>\n",
       "    <tr>\n",
       "      <th>2135</th>\n",
       "      <td>Glyphosate</td>\n",
       "      <td>2014</td>\n",
       "      <td>56</td>\n",
       "      <td>43</td>\n",
       "      <td>14799.4</td>\n",
       "      <td>15084.4</td>\n",
       "      <td>Washakie County</td>\n",
       "      <td>WY</td>\n",
       "      <td>2996</td>\n",
       "      <td>384.2</td>\n",
       "      <td>44</td>\n",
       "      <td>stable</td>\n",
       "      <td>-3.3</td>\n",
       "      <td>332.8</td>\n",
       "      <td>441.9</td>\n",
       "      <td>-15.7</td>\n",
       "      <td>10.8</td>\n",
       "    </tr>\n",
       "    <tr>\n",
       "      <th>2136</th>\n",
       "      <td>Glyphosate</td>\n",
       "      <td>2014</td>\n",
       "      <td>56</td>\n",
       "      <td>45</td>\n",
       "      <td>257.7</td>\n",
       "      <td>578.6</td>\n",
       "      <td>Weston County</td>\n",
       "      <td>WY</td>\n",
       "      <td>2992</td>\n",
       "      <td>403.9</td>\n",
       "      <td>40</td>\n",
       "      <td>stable</td>\n",
       "      <td>3.0</td>\n",
       "      <td>348.0</td>\n",
       "      <td>467.1</td>\n",
       "      <td>-6.9</td>\n",
       "      <td>13.9</td>\n",
       "    </tr>\n",
       "  </tbody>\n",
       "</table>\n",
       "<p>2137 rows × 17 columns</p>\n",
       "</div>"
      ],
      "text/plain": [
       "        COMPOUND  YEAR  stateFIPS  COUNTY_CODE  LOW_ESTIMATE  HIGH_ESTIMATE  \\\n",
       "0     Glyphosate  2014          1            1       11146.6        11219.2   \n",
       "1     Glyphosate  2014          1            3      115957.7       116239.7   \n",
       "2     Glyphosate  2014          1            5        7994.1         7995.7   \n",
       "3     Glyphosate  2014          1            7         215.5          215.5   \n",
       "4     Glyphosate  2014          1            9        6540.7         6652.1   \n",
       "...          ...   ...        ...          ...           ...            ...   \n",
       "2132  Glyphosate  2014         56           37         509.8         5855.7   \n",
       "2133  Glyphosate  2014         56           39         311.1          311.1   \n",
       "2134  Glyphosate  2014         56           41        2639.5         2639.5   \n",
       "2135  Glyphosate  2014         56           43       14799.4        15084.4   \n",
       "2136  Glyphosate  2014         56           45         257.7          578.6   \n",
       "\n",
       "                 county STATE  Unnamed: 0 incidence_rate_per_100k  \\\n",
       "0        Autauga County    AL           4                  495.6    \n",
       "1        Baldwin County    AL          41                  445.0    \n",
       "2        Barbour County    AL          53                  429.8    \n",
       "3           Bibb County    AL          12                  478.3    \n",
       "4         Blount County    AL          46                  440.0    \n",
       "...                 ...   ...         ...                     ...   \n",
       "2132  Sweetwater County    WY        2993                  387.8    \n",
       "2133       Teton County    WY        2987                  420.4    \n",
       "2134       Uinta County    WY        2999                  373.6    \n",
       "2135    Washakie County    WY        2996                  384.2    \n",
       "2136      Weston County    WY        2992                  403.9    \n",
       "\n",
       "     avg_annual_count recent_trend five_year_incidence_change_rate  \\\n",
       "0                 304       stable                           -0.2    \n",
       "1               1,189       stable                           -2.0    \n",
       "2                 145       stable                            0.6    \n",
       "3                 128       stable                           -0.9    \n",
       "4                 317       stable                            0.1    \n",
       "...               ...          ...                             ...   \n",
       "2132              162       stable                            2.3    \n",
       "2133               98       stable                            0.2    \n",
       "2134               78       stable                           -3.0    \n",
       "2135               44       stable                           -3.3    \n",
       "2136               40       stable                            3.0    \n",
       "\n",
       "      incidence_rate_per_100k_low_95  incidence_rate_per_100k_high_95  \\\n",
       "0                              470.6                            521.5   \n",
       "1                              433.4                            456.8   \n",
       "2                              398.3                            463.3   \n",
       "3                              441.2                            517.8   \n",
       "4                              418.0                            462.8   \n",
       "...                              ...                              ...   \n",
       "2132                           359.9                            417.3   \n",
       "2133                           382.3                            461.2   \n",
       "2134                           335.3                            415.1   \n",
       "2135                           332.8                            441.9   \n",
       "2136                           348.0                            467.1   \n",
       "\n",
       "      five_year_incidence_change_rate_low_95  \\\n",
       "0                                       -9.0   \n",
       "1                                       -4.5   \n",
       "2                                       -7.8   \n",
       "3                                      -11.6   \n",
       "4                                       -5.0   \n",
       "...                                      ...   \n",
       "2132                                    -3.9   \n",
       "2133                                   -17.3   \n",
       "2134                                   -13.9   \n",
       "2135                                   -15.7   \n",
       "2136                                    -6.9   \n",
       "\n",
       "      five_year_incidence_change_rate_high_95  \n",
       "0                                         9.6  \n",
       "1                                         0.5  \n",
       "2                                         9.7  \n",
       "3                                        11.1  \n",
       "4                                         5.5  \n",
       "...                                       ...  \n",
       "2132                                      8.8  \n",
       "2133                                     21.5  \n",
       "2134                                      9.2  \n",
       "2135                                     10.8  \n",
       "2136                                     13.9  \n",
       "\n",
       "[2137 rows x 17 columns]"
      ]
     },
     "execution_count": 208,
     "metadata": {},
     "output_type": "execute_result"
    }
   ],
   "source": [
    "df2014Combined"
   ]
  },
  {
   "cell_type": "code",
   "execution_count": 210,
   "metadata": {},
   "outputs": [
    {
     "data": {
      "text/html": [
       "<div>\n",
       "<style scoped>\n",
       "    .dataframe tbody tr th:only-of-type {\n",
       "        vertical-align: middle;\n",
       "    }\n",
       "\n",
       "    .dataframe tbody tr th {\n",
       "        vertical-align: top;\n",
       "    }\n",
       "\n",
       "    .dataframe thead th {\n",
       "        text-align: right;\n",
       "    }\n",
       "</style>\n",
       "<table border=\"1\" class=\"dataframe\">\n",
       "  <thead>\n",
       "    <tr style=\"text-align: right;\">\n",
       "      <th></th>\n",
       "      <th>COMPOUND</th>\n",
       "      <th>YEAR</th>\n",
       "      <th>stateFIPS</th>\n",
       "      <th>COUNTY_CODE</th>\n",
       "      <th>LOW_ESTIMATE</th>\n",
       "      <th>HIGH_ESTIMATE</th>\n",
       "      <th>county</th>\n",
       "      <th>STATE</th>\n",
       "      <th>Unnamed: 0</th>\n",
       "      <th>incidence_rate_per_100k</th>\n",
       "      <th>avg_annual_count</th>\n",
       "      <th>recent_trend</th>\n",
       "      <th>five_year_incidence_change_rate</th>\n",
       "      <th>incidence_rate_per_100k_low_95</th>\n",
       "      <th>incidence_rate_per_100k_high_95</th>\n",
       "      <th>five_year_incidence_change_rate_low_95</th>\n",
       "      <th>five_year_incidence_change_rate_high_95</th>\n",
       "    </tr>\n",
       "  </thead>\n",
       "  <tbody>\n",
       "    <tr>\n",
       "      <th>0</th>\n",
       "      <td>2,4-D</td>\n",
       "      <td>2014</td>\n",
       "      <td>1</td>\n",
       "      <td>1</td>\n",
       "      <td>1698.6</td>\n",
       "      <td>1885.5</td>\n",
       "      <td>Autauga County</td>\n",
       "      <td>AL</td>\n",
       "      <td>4</td>\n",
       "      <td>495.6</td>\n",
       "      <td>304</td>\n",
       "      <td>stable</td>\n",
       "      <td>-0.2</td>\n",
       "      <td>470.6</td>\n",
       "      <td>521.5</td>\n",
       "      <td>-9.0</td>\n",
       "      <td>9.6</td>\n",
       "    </tr>\n",
       "    <tr>\n",
       "      <th>1</th>\n",
       "      <td>2,4-DB</td>\n",
       "      <td>2014</td>\n",
       "      <td>1</td>\n",
       "      <td>1</td>\n",
       "      <td>82.8</td>\n",
       "      <td>264.3</td>\n",
       "      <td>Autauga County</td>\n",
       "      <td>AL</td>\n",
       "      <td>4</td>\n",
       "      <td>495.6</td>\n",
       "      <td>304</td>\n",
       "      <td>stable</td>\n",
       "      <td>-0.2</td>\n",
       "      <td>470.6</td>\n",
       "      <td>521.5</td>\n",
       "      <td>-9.0</td>\n",
       "      <td>9.6</td>\n",
       "    </tr>\n",
       "    <tr>\n",
       "      <th>2</th>\n",
       "      <td>Abamectin</td>\n",
       "      <td>2014</td>\n",
       "      <td>1</td>\n",
       "      <td>1</td>\n",
       "      <td>8.6</td>\n",
       "      <td>8.9</td>\n",
       "      <td>Autauga County</td>\n",
       "      <td>AL</td>\n",
       "      <td>4</td>\n",
       "      <td>495.6</td>\n",
       "      <td>304</td>\n",
       "      <td>stable</td>\n",
       "      <td>-0.2</td>\n",
       "      <td>470.6</td>\n",
       "      <td>521.5</td>\n",
       "      <td>-9.0</td>\n",
       "      <td>9.6</td>\n",
       "    </tr>\n",
       "    <tr>\n",
       "      <th>3</th>\n",
       "      <td>Acephate</td>\n",
       "      <td>2014</td>\n",
       "      <td>1</td>\n",
       "      <td>1</td>\n",
       "      <td>707.9</td>\n",
       "      <td>707.9</td>\n",
       "      <td>Autauga County</td>\n",
       "      <td>AL</td>\n",
       "      <td>4</td>\n",
       "      <td>495.6</td>\n",
       "      <td>304</td>\n",
       "      <td>stable</td>\n",
       "      <td>-0.2</td>\n",
       "      <td>470.6</td>\n",
       "      <td>521.5</td>\n",
       "      <td>-9.0</td>\n",
       "      <td>9.6</td>\n",
       "    </tr>\n",
       "    <tr>\n",
       "      <th>4</th>\n",
       "      <td>Acetochlor</td>\n",
       "      <td>2014</td>\n",
       "      <td>1</td>\n",
       "      <td>1</td>\n",
       "      <td>649.5</td>\n",
       "      <td>859.5</td>\n",
       "      <td>Autauga County</td>\n",
       "      <td>AL</td>\n",
       "      <td>4</td>\n",
       "      <td>495.6</td>\n",
       "      <td>304</td>\n",
       "      <td>stable</td>\n",
       "      <td>-0.2</td>\n",
       "      <td>470.6</td>\n",
       "      <td>521.5</td>\n",
       "      <td>-9.0</td>\n",
       "      <td>9.6</td>\n",
       "    </tr>\n",
       "  </tbody>\n",
       "</table>\n",
       "</div>"
      ],
      "text/plain": [
       "     COMPOUND  YEAR  stateFIPS  COUNTY_CODE  LOW_ESTIMATE  HIGH_ESTIMATE  \\\n",
       "0       2,4-D  2014          1            1        1698.6         1885.5   \n",
       "1      2,4-DB  2014          1            1          82.8          264.3   \n",
       "2   Abamectin  2014          1            1           8.6            8.9   \n",
       "3    Acephate  2014          1            1         707.9          707.9   \n",
       "4  Acetochlor  2014          1            1         649.5          859.5   \n",
       "\n",
       "           county STATE  Unnamed: 0 incidence_rate_per_100k avg_annual_count  \\\n",
       "0  Autauga County    AL           4                  495.6               304   \n",
       "1  Autauga County    AL           4                  495.6               304   \n",
       "2  Autauga County    AL           4                  495.6               304   \n",
       "3  Autauga County    AL           4                  495.6               304   \n",
       "4  Autauga County    AL           4                  495.6               304   \n",
       "\n",
       "  recent_trend five_year_incidence_change_rate  \\\n",
       "0       stable                           -0.2    \n",
       "1       stable                           -0.2    \n",
       "2       stable                           -0.2    \n",
       "3       stable                           -0.2    \n",
       "4       stable                           -0.2    \n",
       "\n",
       "   incidence_rate_per_100k_low_95  incidence_rate_per_100k_high_95  \\\n",
       "0                           470.6                            521.5   \n",
       "1                           470.6                            521.5   \n",
       "2                           470.6                            521.5   \n",
       "3                           470.6                            521.5   \n",
       "4                           470.6                            521.5   \n",
       "\n",
       "   five_year_incidence_change_rate_low_95  \\\n",
       "0                                    -9.0   \n",
       "1                                    -9.0   \n",
       "2                                    -9.0   \n",
       "3                                    -9.0   \n",
       "4                                    -9.0   \n",
       "\n",
       "   five_year_incidence_change_rate_high_95  \n",
       "0                                      9.6  \n",
       "1                                      9.6  \n",
       "2                                      9.6  \n",
       "3                                      9.6  \n",
       "4                                      9.6  "
      ]
     },
     "execution_count": 210,
     "metadata": {},
     "output_type": "execute_result"
    }
   ],
   "source": [
    "pd.merge(dfPest, dfCancer, left_on=['county', 'stateFIPS'], right_on=['county', 'stateFIPS']).head()"
   ]
  },
  {
   "cell_type": "code",
   "execution_count": null,
   "metadata": {},
   "outputs": [],
   "source": []
  }
 ],
 "metadata": {
  "kernelspec": {
   "display_name": "Python 3",
   "language": "python",
   "name": "python3"
  },
  "language_info": {
   "codemirror_mode": {
    "name": "ipython",
    "version": 3
   },
   "file_extension": ".py",
   "mimetype": "text/x-python",
   "name": "python",
   "nbconvert_exporter": "python",
   "pygments_lexer": "ipython3",
   "version": "3.8.3"
  }
 },
 "nbformat": 4,
 "nbformat_minor": 4
}
