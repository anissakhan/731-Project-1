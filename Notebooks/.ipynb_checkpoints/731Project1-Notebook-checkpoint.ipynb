{
 "cells": [
  {
   "cell_type": "markdown",
   "metadata": {},
   "source": [
    "# Analyzing the relationship between pesticide use and cancer incidence in the US by county"
   ]
  },
  {
   "cell_type": "markdown",
   "metadata": {},
   "source": [
    "## Intro"
   ]
  },
  {
   "cell_type": "markdown",
   "metadata": {},
   "source": [
    "This notebook contains 2 primary datasets obtained from Kaggle. The pesticide dataset is composed of 3 sets: 2014, 2015, and a key containing the state and county names. The cancer dataset is a single dataset. First I merge the Pesticide dataset into a single dataframe. And then I merge the Pesticide dataframe with the Cancer dataframe. Later I use simple line charts to plot pesticide use rates alongside cancer incidence. "
   ]
  },
  {
   "cell_type": "markdown",
   "metadata": {},
   "source": [
    "## Applications"
   ]
  },
  {
   "cell_type": "markdown",
   "metadata": {},
   "source": [
    "By combining these datasets we are able to observe any relationship that exists between pesticide use and cancer incidence. This relationship could have important implications for the farming industry and the health of its workers."
   ]
  },
  {
   "cell_type": "code",
   "execution_count": 478,
   "metadata": {},
   "outputs": [],
   "source": [
    "import numpy as np"
   ]
  },
  {
   "cell_type": "code",
   "execution_count": 479,
   "metadata": {},
   "outputs": [],
   "source": [
    "import pandas as pd"
   ]
  },
  {
   "cell_type": "code",
   "execution_count": 480,
   "metadata": {},
   "outputs": [],
   "source": [
    "import matplotlib.pyplot as plt"
   ]
  },
  {
   "cell_type": "markdown",
   "metadata": {},
   "source": [
    "## Merge Pesticide datasets"
   ]
  },
  {
   "cell_type": "code",
   "execution_count": 481,
   "metadata": {},
   "outputs": [],
   "source": [
    "df2014=pd.read_csv(\"file://localhost/Users/anissakhan/Dropbox/Nissa_stuff/KU_CS/EECS731/731-Project-1/Data/718_1342_bundle_archive/2014.csv\")"
   ]
  },
  {
   "cell_type": "code",
   "execution_count": 482,
   "metadata": {},
   "outputs": [],
   "source": [
    "df2015=pd.read_csv(\"file://localhost/Users/anissakhan/Dropbox/Nissa_stuff/KU_CS/EECS731/731-Project-1/Data/718_1342_bundle_archive/2015.csv\")"
   ]
  },
  {
   "cell_type": "code",
   "execution_count": 483,
   "metadata": {},
   "outputs": [],
   "source": [
    "dfKey=pd.read_csv(\"file://localhost/Users/anissakhan/Dropbox/Nissa_stuff/KU_CS/EECS731/731-Project-1/Data/718_1342_bundle_archive/dictionary.csv\")"
   ]
  },
  {
   "cell_type": "code",
   "execution_count": 484,
   "metadata": {},
   "outputs": [],
   "source": [
    "dfCancer=pd.read_csv(\"file://localhost/Users/anissakhan/Dropbox/Nissa_stuff/KU_CS/EECS731/731-Project-1/Data/cancer_incidence_by_county.csv\")"
   ]
  },
  {
   "cell_type": "markdown",
   "metadata": {},
   "source": [
    "Create a data set that merges the 2014 and 2015 dataset (merged vertically).\n",
    "I used ignore_index=True so that the index would not repeat across the 2 datasets."
   ]
  },
  {
   "cell_type": "code",
   "execution_count": 485,
   "metadata": {},
   "outputs": [],
   "source": [
    "frames = [df2014, df2015]"
   ]
  },
  {
   "cell_type": "code",
   "execution_count": 486,
   "metadata": {},
   "outputs": [],
   "source": [
    "dfPestNoKey = pd.concat(frames, ignore_index=True)"
   ]
  },
  {
   "cell_type": "markdown",
   "metadata": {},
   "source": [
    "Check how many unique county names exist in each dataset: Pesticide dataset (dfKey) and Cancer dataset (dfCancer)"
   ]
  },
  {
   "cell_type": "code",
   "execution_count": 487,
   "metadata": {},
   "outputs": [
    {
     "data": {
      "text/plain": [
       "1969"
      ]
     },
     "execution_count": 487,
     "metadata": {},
     "output_type": "execute_result"
    }
   ],
   "source": [
    "dfKey.COUNTY.nunique()"
   ]
  },
  {
   "cell_type": "code",
   "execution_count": 488,
   "metadata": {},
   "outputs": [
    {
     "data": {
      "text/plain": [
       "2084"
      ]
     },
     "execution_count": 488,
     "metadata": {},
     "output_type": "execute_result"
    }
   ],
   "source": [
    "dfCancer.county.nunique()"
   ]
  },
  {
   "cell_type": "markdown",
   "metadata": {},
   "source": [
    "Merge Pesticide dataset with its State and County names"
   ]
  },
  {
   "cell_type": "code",
   "execution_count": 489,
   "metadata": {},
   "outputs": [],
   "source": [
    "dfPest=pd.merge(dfPestNoKey, dfKey, left_on=['COUNTY_CODE', 'STATE_CODE'], right_on=['COUNTY_CODE', 'STATE_CODE'])"
   ]
  },
  {
   "cell_type": "code",
   "execution_count": 490,
   "metadata": {},
   "outputs": [
    {
     "data": {
      "text/html": [
       "<div>\n",
       "<style scoped>\n",
       "    .dataframe tbody tr th:only-of-type {\n",
       "        vertical-align: middle;\n",
       "    }\n",
       "\n",
       "    .dataframe tbody tr th {\n",
       "        vertical-align: top;\n",
       "    }\n",
       "\n",
       "    .dataframe thead th {\n",
       "        text-align: right;\n",
       "    }\n",
       "</style>\n",
       "<table border=\"1\" class=\"dataframe\">\n",
       "  <thead>\n",
       "    <tr style=\"text-align: right;\">\n",
       "      <th></th>\n",
       "      <th>COMPOUND</th>\n",
       "      <th>YEAR</th>\n",
       "      <th>STATE_CODE</th>\n",
       "      <th>COUNTY_CODE</th>\n",
       "      <th>LOW_ESTIMATE</th>\n",
       "      <th>HIGH_ESTIMATE</th>\n",
       "      <th>COUNTY</th>\n",
       "      <th>STATE</th>\n",
       "    </tr>\n",
       "  </thead>\n",
       "  <tbody>\n",
       "    <tr>\n",
       "      <th>0</th>\n",
       "      <td>2,4-D</td>\n",
       "      <td>2014</td>\n",
       "      <td>1</td>\n",
       "      <td>1</td>\n",
       "      <td>1698.6</td>\n",
       "      <td>1885.5</td>\n",
       "      <td>Autauga County</td>\n",
       "      <td>AL</td>\n",
       "    </tr>\n",
       "    <tr>\n",
       "      <th>1</th>\n",
       "      <td>2,4-DB</td>\n",
       "      <td>2014</td>\n",
       "      <td>1</td>\n",
       "      <td>1</td>\n",
       "      <td>82.8</td>\n",
       "      <td>264.3</td>\n",
       "      <td>Autauga County</td>\n",
       "      <td>AL</td>\n",
       "    </tr>\n",
       "    <tr>\n",
       "      <th>2</th>\n",
       "      <td>Abamectin</td>\n",
       "      <td>2014</td>\n",
       "      <td>1</td>\n",
       "      <td>1</td>\n",
       "      <td>8.6</td>\n",
       "      <td>8.9</td>\n",
       "      <td>Autauga County</td>\n",
       "      <td>AL</td>\n",
       "    </tr>\n",
       "    <tr>\n",
       "      <th>3</th>\n",
       "      <td>Acephate</td>\n",
       "      <td>2014</td>\n",
       "      <td>1</td>\n",
       "      <td>1</td>\n",
       "      <td>707.9</td>\n",
       "      <td>707.9</td>\n",
       "      <td>Autauga County</td>\n",
       "      <td>AL</td>\n",
       "    </tr>\n",
       "    <tr>\n",
       "      <th>4</th>\n",
       "      <td>Acetochlor</td>\n",
       "      <td>2014</td>\n",
       "      <td>1</td>\n",
       "      <td>1</td>\n",
       "      <td>649.5</td>\n",
       "      <td>859.5</td>\n",
       "      <td>Autauga County</td>\n",
       "      <td>AL</td>\n",
       "    </tr>\n",
       "  </tbody>\n",
       "</table>\n",
       "</div>"
      ],
      "text/plain": [
       "     COMPOUND  YEAR  STATE_CODE  COUNTY_CODE  LOW_ESTIMATE  HIGH_ESTIMATE  \\\n",
       "0       2,4-D  2014           1            1        1698.6         1885.5   \n",
       "1      2,4-DB  2014           1            1          82.8          264.3   \n",
       "2   Abamectin  2014           1            1           8.6            8.9   \n",
       "3    Acephate  2014           1            1         707.9          707.9   \n",
       "4  Acetochlor  2014           1            1         649.5          859.5   \n",
       "\n",
       "           COUNTY STATE  \n",
       "0  Autauga County    AL  \n",
       "1  Autauga County    AL  \n",
       "2  Autauga County    AL  \n",
       "3  Autauga County    AL  \n",
       "4  Autauga County    AL  "
      ]
     },
     "execution_count": 490,
     "metadata": {},
     "output_type": "execute_result"
    }
   ],
   "source": [
    "dfPest.head()"
   ]
  },
  {
   "cell_type": "markdown",
   "metadata": {},
   "source": [
    "## Cleaning the data"
   ]
  },
  {
   "cell_type": "code",
   "execution_count": 491,
   "metadata": {},
   "outputs": [
    {
     "data": {
      "text/html": [
       "<div>\n",
       "<style scoped>\n",
       "    .dataframe tbody tr th:only-of-type {\n",
       "        vertical-align: middle;\n",
       "    }\n",
       "\n",
       "    .dataframe tbody tr th {\n",
       "        vertical-align: top;\n",
       "    }\n",
       "\n",
       "    .dataframe thead th {\n",
       "        text-align: right;\n",
       "    }\n",
       "</style>\n",
       "<table border=\"1\" class=\"dataframe\">\n",
       "  <thead>\n",
       "    <tr style=\"text-align: right;\">\n",
       "      <th></th>\n",
       "      <th>Unnamed: 0</th>\n",
       "      <th>county</th>\n",
       "      <th>incidence_rate_per_100k</th>\n",
       "      <th>avg_annual_count</th>\n",
       "      <th>recent_trend</th>\n",
       "      <th>five_year_incidence_change_rate</th>\n",
       "      <th>stateFIPS</th>\n",
       "      <th>incidence_rate_per_100k_low_95</th>\n",
       "      <th>incidence_rate_per_100k_high_95</th>\n",
       "      <th>five_year_incidence_change_rate_low_95</th>\n",
       "      <th>five_year_incidence_change_rate_high_95</th>\n",
       "    </tr>\n",
       "  </thead>\n",
       "  <tbody>\n",
       "    <tr>\n",
       "      <th>0</th>\n",
       "      <td>0</td>\n",
       "      <td>Chambers County</td>\n",
       "      <td>522.8</td>\n",
       "      <td>240</td>\n",
       "      <td>stable</td>\n",
       "      <td>-1.5</td>\n",
       "      <td>1</td>\n",
       "      <td>492.7</td>\n",
       "      <td>554.5</td>\n",
       "      <td>-6.5</td>\n",
       "      <td>3.7</td>\n",
       "    </tr>\n",
       "    <tr>\n",
       "      <th>1</th>\n",
       "      <td>1</td>\n",
       "      <td>Walker County</td>\n",
       "      <td>515.8</td>\n",
       "      <td>447</td>\n",
       "      <td>stable</td>\n",
       "      <td>0.2</td>\n",
       "      <td>1</td>\n",
       "      <td>494.0</td>\n",
       "      <td>538.4</td>\n",
       "      <td>-2.8</td>\n",
       "      <td>3.2</td>\n",
       "    </tr>\n",
       "    <tr>\n",
       "      <th>2</th>\n",
       "      <td>2</td>\n",
       "      <td>Lowndes County</td>\n",
       "      <td>513.3</td>\n",
       "      <td>71</td>\n",
       "      <td>rising</td>\n",
       "      <td>11.2</td>\n",
       "      <td>1</td>\n",
       "      <td>459.8</td>\n",
       "      <td>571.8</td>\n",
       "      <td>6.3</td>\n",
       "      <td>16.3</td>\n",
       "    </tr>\n",
       "    <tr>\n",
       "      <th>3</th>\n",
       "      <td>3</td>\n",
       "      <td>Dallas County</td>\n",
       "      <td>510.0</td>\n",
       "      <td>258</td>\n",
       "      <td>stable</td>\n",
       "      <td>0.7</td>\n",
       "      <td>1</td>\n",
       "      <td>481.6</td>\n",
       "      <td>539.7</td>\n",
       "      <td>-9.8</td>\n",
       "      <td>12.4</td>\n",
       "    </tr>\n",
       "    <tr>\n",
       "      <th>4</th>\n",
       "      <td>4</td>\n",
       "      <td>Autauga County</td>\n",
       "      <td>495.6</td>\n",
       "      <td>304</td>\n",
       "      <td>stable</td>\n",
       "      <td>-0.2</td>\n",
       "      <td>1</td>\n",
       "      <td>470.6</td>\n",
       "      <td>521.5</td>\n",
       "      <td>-9.0</td>\n",
       "      <td>9.6</td>\n",
       "    </tr>\n",
       "  </tbody>\n",
       "</table>\n",
       "</div>"
      ],
      "text/plain": [
       "   Unnamed: 0                     county incidence_rate_per_100k  \\\n",
       "0           0  Chambers County                            522.8    \n",
       "1           1    Walker County                            515.8    \n",
       "2           2   Lowndes County                            513.3    \n",
       "3           3    Dallas County                            510.0    \n",
       "4           4   Autauga County                            495.6    \n",
       "\n",
       "  avg_annual_count recent_trend five_year_incidence_change_rate  stateFIPS  \\\n",
       "0              240       stable                           -1.5           1   \n",
       "1              447       stable                            0.2           1   \n",
       "2               71       rising                           11.2           1   \n",
       "3              258       stable                            0.7           1   \n",
       "4              304       stable                           -0.2           1   \n",
       "\n",
       "   incidence_rate_per_100k_low_95  incidence_rate_per_100k_high_95  \\\n",
       "0                           492.7                            554.5   \n",
       "1                           494.0                            538.4   \n",
       "2                           459.8                            571.8   \n",
       "3                           481.6                            539.7   \n",
       "4                           470.6                            521.5   \n",
       "\n",
       "   five_year_incidence_change_rate_low_95  \\\n",
       "0                                    -6.5   \n",
       "1                                    -2.8   \n",
       "2                                     6.3   \n",
       "3                                    -9.8   \n",
       "4                                    -9.0   \n",
       "\n",
       "   five_year_incidence_change_rate_high_95  \n",
       "0                                      3.7  \n",
       "1                                      3.2  \n",
       "2                                     16.3  \n",
       "3                                     12.4  \n",
       "4                                      9.6  "
      ]
     },
     "execution_count": 491,
     "metadata": {},
     "output_type": "execute_result"
    }
   ],
   "source": [
    "dfCancer.head()"
   ]
  },
  {
   "cell_type": "markdown",
   "metadata": {},
   "source": [
    "Delete unnecessary column (Unnamed: 0):"
   ]
  },
  {
   "cell_type": "code",
   "execution_count": 492,
   "metadata": {},
   "outputs": [],
   "source": [
    "dfCancer=dfCancer.drop(columns='Unnamed: 0')"
   ]
  },
  {
   "cell_type": "code",
   "execution_count": 493,
   "metadata": {},
   "outputs": [
    {
     "data": {
      "text/html": [
       "<div>\n",
       "<style scoped>\n",
       "    .dataframe tbody tr th:only-of-type {\n",
       "        vertical-align: middle;\n",
       "    }\n",
       "\n",
       "    .dataframe tbody tr th {\n",
       "        vertical-align: top;\n",
       "    }\n",
       "\n",
       "    .dataframe thead th {\n",
       "        text-align: right;\n",
       "    }\n",
       "</style>\n",
       "<table border=\"1\" class=\"dataframe\">\n",
       "  <thead>\n",
       "    <tr style=\"text-align: right;\">\n",
       "      <th></th>\n",
       "      <th>county</th>\n",
       "      <th>incidence_rate_per_100k</th>\n",
       "      <th>avg_annual_count</th>\n",
       "      <th>recent_trend</th>\n",
       "      <th>five_year_incidence_change_rate</th>\n",
       "      <th>stateFIPS</th>\n",
       "      <th>incidence_rate_per_100k_low_95</th>\n",
       "      <th>incidence_rate_per_100k_high_95</th>\n",
       "      <th>five_year_incidence_change_rate_low_95</th>\n",
       "      <th>five_year_incidence_change_rate_high_95</th>\n",
       "    </tr>\n",
       "  </thead>\n",
       "  <tbody>\n",
       "    <tr>\n",
       "      <th>0</th>\n",
       "      <td>Chambers County</td>\n",
       "      <td>522.8</td>\n",
       "      <td>240</td>\n",
       "      <td>stable</td>\n",
       "      <td>-1.5</td>\n",
       "      <td>1</td>\n",
       "      <td>492.7</td>\n",
       "      <td>554.5</td>\n",
       "      <td>-6.5</td>\n",
       "      <td>3.7</td>\n",
       "    </tr>\n",
       "    <tr>\n",
       "      <th>1</th>\n",
       "      <td>Walker County</td>\n",
       "      <td>515.8</td>\n",
       "      <td>447</td>\n",
       "      <td>stable</td>\n",
       "      <td>0.2</td>\n",
       "      <td>1</td>\n",
       "      <td>494.0</td>\n",
       "      <td>538.4</td>\n",
       "      <td>-2.8</td>\n",
       "      <td>3.2</td>\n",
       "    </tr>\n",
       "    <tr>\n",
       "      <th>2</th>\n",
       "      <td>Lowndes County</td>\n",
       "      <td>513.3</td>\n",
       "      <td>71</td>\n",
       "      <td>rising</td>\n",
       "      <td>11.2</td>\n",
       "      <td>1</td>\n",
       "      <td>459.8</td>\n",
       "      <td>571.8</td>\n",
       "      <td>6.3</td>\n",
       "      <td>16.3</td>\n",
       "    </tr>\n",
       "    <tr>\n",
       "      <th>3</th>\n",
       "      <td>Dallas County</td>\n",
       "      <td>510.0</td>\n",
       "      <td>258</td>\n",
       "      <td>stable</td>\n",
       "      <td>0.7</td>\n",
       "      <td>1</td>\n",
       "      <td>481.6</td>\n",
       "      <td>539.7</td>\n",
       "      <td>-9.8</td>\n",
       "      <td>12.4</td>\n",
       "    </tr>\n",
       "    <tr>\n",
       "      <th>4</th>\n",
       "      <td>Autauga County</td>\n",
       "      <td>495.6</td>\n",
       "      <td>304</td>\n",
       "      <td>stable</td>\n",
       "      <td>-0.2</td>\n",
       "      <td>1</td>\n",
       "      <td>470.6</td>\n",
       "      <td>521.5</td>\n",
       "      <td>-9.0</td>\n",
       "      <td>9.6</td>\n",
       "    </tr>\n",
       "  </tbody>\n",
       "</table>\n",
       "</div>"
      ],
      "text/plain": [
       "                      county incidence_rate_per_100k avg_annual_count  \\\n",
       "0  Chambers County                            522.8               240   \n",
       "1    Walker County                            515.8               447   \n",
       "2   Lowndes County                            513.3                71   \n",
       "3    Dallas County                            510.0               258   \n",
       "4   Autauga County                            495.6               304   \n",
       "\n",
       "  recent_trend five_year_incidence_change_rate  stateFIPS  \\\n",
       "0       stable                           -1.5           1   \n",
       "1       stable                            0.2           1   \n",
       "2       rising                           11.2           1   \n",
       "3       stable                            0.7           1   \n",
       "4       stable                           -0.2           1   \n",
       "\n",
       "   incidence_rate_per_100k_low_95  incidence_rate_per_100k_high_95  \\\n",
       "0                           492.7                            554.5   \n",
       "1                           494.0                            538.4   \n",
       "2                           459.8                            571.8   \n",
       "3                           481.6                            539.7   \n",
       "4                           470.6                            521.5   \n",
       "\n",
       "   five_year_incidence_change_rate_low_95  \\\n",
       "0                                    -6.5   \n",
       "1                                    -2.8   \n",
       "2                                     6.3   \n",
       "3                                    -9.8   \n",
       "4                                    -9.0   \n",
       "\n",
       "   five_year_incidence_change_rate_high_95  \n",
       "0                                      3.7  \n",
       "1                                      3.2  \n",
       "2                                     16.3  \n",
       "3                                     12.4  \n",
       "4                                      9.6  "
      ]
     },
     "execution_count": 493,
     "metadata": {},
     "output_type": "execute_result"
    }
   ],
   "source": [
    "dfCancer.head()"
   ]
  },
  {
   "cell_type": "markdown",
   "metadata": {},
   "source": [
    "Check summary statistics "
   ]
  },
  {
   "cell_type": "code",
   "execution_count": 494,
   "metadata": {},
   "outputs": [
    {
     "data": {
      "text/html": [
       "<div>\n",
       "<style scoped>\n",
       "    .dataframe tbody tr th:only-of-type {\n",
       "        vertical-align: middle;\n",
       "    }\n",
       "\n",
       "    .dataframe tbody tr th {\n",
       "        vertical-align: top;\n",
       "    }\n",
       "\n",
       "    .dataframe thead th {\n",
       "        text-align: right;\n",
       "    }\n",
       "</style>\n",
       "<table border=\"1\" class=\"dataframe\">\n",
       "  <thead>\n",
       "    <tr style=\"text-align: right;\">\n",
       "      <th></th>\n",
       "      <th>YEAR</th>\n",
       "      <th>STATE_CODE</th>\n",
       "      <th>COUNTY_CODE</th>\n",
       "      <th>LOW_ESTIMATE</th>\n",
       "      <th>HIGH_ESTIMATE</th>\n",
       "    </tr>\n",
       "  </thead>\n",
       "  <tbody>\n",
       "    <tr>\n",
       "      <th>count</th>\n",
       "      <td>762196.000000</td>\n",
       "      <td>762196.000000</td>\n",
       "      <td>762196.000000</td>\n",
       "      <td>5.209890e+05</td>\n",
       "      <td>7.621960e+05</td>\n",
       "    </tr>\n",
       "    <tr>\n",
       "      <th>mean</th>\n",
       "      <td>2014.485128</td>\n",
       "      <td>30.957291</td>\n",
       "      <td>94.823353</td>\n",
       "      <td>1.496135e+03</td>\n",
       "      <td>1.182863e+03</td>\n",
       "    </tr>\n",
       "    <tr>\n",
       "      <th>std</th>\n",
       "      <td>0.499779</td>\n",
       "      <td>14.666494</td>\n",
       "      <td>85.567998</td>\n",
       "      <td>1.849983e+04</td>\n",
       "      <td>1.569203e+04</td>\n",
       "    </tr>\n",
       "    <tr>\n",
       "      <th>min</th>\n",
       "      <td>2014.000000</td>\n",
       "      <td>1.000000</td>\n",
       "      <td>1.000000</td>\n",
       "      <td>0.000000e+00</td>\n",
       "      <td>0.000000e+00</td>\n",
       "    </tr>\n",
       "    <tr>\n",
       "      <th>25%</th>\n",
       "      <td>2014.000000</td>\n",
       "      <td>19.000000</td>\n",
       "      <td>35.000000</td>\n",
       "      <td>9.000000e-01</td>\n",
       "      <td>1.500000e+00</td>\n",
       "    </tr>\n",
       "    <tr>\n",
       "      <th>50%</th>\n",
       "      <td>2014.000000</td>\n",
       "      <td>30.000000</td>\n",
       "      <td>77.000000</td>\n",
       "      <td>1.210000e+01</td>\n",
       "      <td>1.640000e+01</td>\n",
       "    </tr>\n",
       "    <tr>\n",
       "      <th>75%</th>\n",
       "      <td>2015.000000</td>\n",
       "      <td>45.000000</td>\n",
       "      <td>129.000000</td>\n",
       "      <td>1.327000e+02</td>\n",
       "      <td>1.405000e+02</td>\n",
       "    </tr>\n",
       "    <tr>\n",
       "      <th>max</th>\n",
       "      <td>2015.000000</td>\n",
       "      <td>56.000000</td>\n",
       "      <td>810.000000</td>\n",
       "      <td>5.507146e+06</td>\n",
       "      <td>5.507146e+06</td>\n",
       "    </tr>\n",
       "  </tbody>\n",
       "</table>\n",
       "</div>"
      ],
      "text/plain": [
       "                YEAR     STATE_CODE    COUNTY_CODE  LOW_ESTIMATE  \\\n",
       "count  762196.000000  762196.000000  762196.000000  5.209890e+05   \n",
       "mean     2014.485128      30.957291      94.823353  1.496135e+03   \n",
       "std         0.499779      14.666494      85.567998  1.849983e+04   \n",
       "min      2014.000000       1.000000       1.000000  0.000000e+00   \n",
       "25%      2014.000000      19.000000      35.000000  9.000000e-01   \n",
       "50%      2014.000000      30.000000      77.000000  1.210000e+01   \n",
       "75%      2015.000000      45.000000     129.000000  1.327000e+02   \n",
       "max      2015.000000      56.000000     810.000000  5.507146e+06   \n",
       "\n",
       "       HIGH_ESTIMATE  \n",
       "count   7.621960e+05  \n",
       "mean    1.182863e+03  \n",
       "std     1.569203e+04  \n",
       "min     0.000000e+00  \n",
       "25%     1.500000e+00  \n",
       "50%     1.640000e+01  \n",
       "75%     1.405000e+02  \n",
       "max     5.507146e+06  "
      ]
     },
     "execution_count": 494,
     "metadata": {},
     "output_type": "execute_result"
    }
   ],
   "source": [
    "dfPest.describe()"
   ]
  },
  {
   "cell_type": "markdown",
   "metadata": {},
   "source": [
    "The pesticide dataset contains missing (NaN) values in the low_estimate variable (as seen in the below table). From the dataset documentation, we know the following: if a county did not report pesticide use, \"low estimates assumed zero use in the district for that pesticide; however, high estimates treated the unreported use of pesticides as missing data and estimated the pesticide usage from neighboring locations within the same region.\" Therefore, low_estimate values should contain either 0 or a value. If it is missing, we need to handle that in a different way. "
   ]
  },
  {
   "cell_type": "code",
   "execution_count": 495,
   "metadata": {},
   "outputs": [
    {
     "name": "stdout",
     "output_type": "stream",
     "text": [
      "<class 'pandas.core.frame.DataFrame'>\n",
      "Int64Index: 762196 entries, 0 to 762195\n",
      "Data columns (total 8 columns):\n",
      " #   Column         Non-Null Count   Dtype  \n",
      "---  ------         --------------   -----  \n",
      " 0   COMPOUND       762196 non-null  object \n",
      " 1   YEAR           762196 non-null  int64  \n",
      " 2   STATE_CODE     762196 non-null  int64  \n",
      " 3   COUNTY_CODE    762196 non-null  int64  \n",
      " 4   LOW_ESTIMATE   520989 non-null  float64\n",
      " 5   HIGH_ESTIMATE  762196 non-null  float64\n",
      " 6   COUNTY         762196 non-null  object \n",
      " 7   STATE          762196 non-null  object \n",
      "dtypes: float64(2), int64(3), object(3)\n",
      "memory usage: 52.3+ MB\n"
     ]
    }
   ],
   "source": [
    "dfPest.info()"
   ]
  },
  {
   "cell_type": "code",
   "execution_count": 496,
   "metadata": {},
   "outputs": [
    {
     "data": {
      "text/html": [
       "<div>\n",
       "<style scoped>\n",
       "    .dataframe tbody tr th:only-of-type {\n",
       "        vertical-align: middle;\n",
       "    }\n",
       "\n",
       "    .dataframe tbody tr th {\n",
       "        vertical-align: top;\n",
       "    }\n",
       "\n",
       "    .dataframe thead th {\n",
       "        text-align: right;\n",
       "    }\n",
       "</style>\n",
       "<table border=\"1\" class=\"dataframe\">\n",
       "  <thead>\n",
       "    <tr style=\"text-align: right;\">\n",
       "      <th></th>\n",
       "      <th>stateFIPS</th>\n",
       "      <th>incidence_rate_per_100k_low_95</th>\n",
       "      <th>incidence_rate_per_100k_high_95</th>\n",
       "      <th>five_year_incidence_change_rate_low_95</th>\n",
       "      <th>five_year_incidence_change_rate_high_95</th>\n",
       "    </tr>\n",
       "  </thead>\n",
       "  <tbody>\n",
       "    <tr>\n",
       "      <th>count</th>\n",
       "      <td>3007.000000</td>\n",
       "      <td>2802.000000</td>\n",
       "      <td>2802.000000</td>\n",
       "      <td>2788.000000</td>\n",
       "      <td>2788.000000</td>\n",
       "    </tr>\n",
       "    <tr>\n",
       "      <th>mean</th>\n",
       "      <td>30.475557</td>\n",
       "      <td>410.834868</td>\n",
       "      <td>489.252677</td>\n",
       "      <td>-8.198924</td>\n",
       "      <td>9.326220</td>\n",
       "    </tr>\n",
       "    <tr>\n",
       "      <th>std</th>\n",
       "      <td>14.995741</td>\n",
       "      <td>63.757158</td>\n",
       "      <td>64.413099</td>\n",
       "      <td>8.497521</td>\n",
       "      <td>13.807583</td>\n",
       "    </tr>\n",
       "    <tr>\n",
       "      <th>min</th>\n",
       "      <td>1.000000</td>\n",
       "      <td>72.900000</td>\n",
       "      <td>1.000000</td>\n",
       "      <td>-69.200000</td>\n",
       "      <td>-13.100000</td>\n",
       "    </tr>\n",
       "    <tr>\n",
       "      <th>25%</th>\n",
       "      <td>18.000000</td>\n",
       "      <td>377.800000</td>\n",
       "      <td>453.400000</td>\n",
       "      <td>-11.500000</td>\n",
       "      <td>1.300000</td>\n",
       "    </tr>\n",
       "    <tr>\n",
       "      <th>50%</th>\n",
       "      <td>30.000000</td>\n",
       "      <td>421.600000</td>\n",
       "      <td>488.100000</td>\n",
       "      <td>-5.900000</td>\n",
       "      <td>5.500000</td>\n",
       "    </tr>\n",
       "    <tr>\n",
       "      <th>75%</th>\n",
       "      <td>45.000000</td>\n",
       "      <td>454.675000</td>\n",
       "      <td>523.200000</td>\n",
       "      <td>-2.000000</td>\n",
       "      <td>12.300000</td>\n",
       "    </tr>\n",
       "    <tr>\n",
       "      <th>max</th>\n",
       "      <td>56.000000</td>\n",
       "      <td>586.600000</td>\n",
       "      <td>974.300000</td>\n",
       "      <td>11.500000</td>\n",
       "      <td>199.700000</td>\n",
       "    </tr>\n",
       "  </tbody>\n",
       "</table>\n",
       "</div>"
      ],
      "text/plain": [
       "         stateFIPS  incidence_rate_per_100k_low_95  \\\n",
       "count  3007.000000                     2802.000000   \n",
       "mean     30.475557                      410.834868   \n",
       "std      14.995741                       63.757158   \n",
       "min       1.000000                       72.900000   \n",
       "25%      18.000000                      377.800000   \n",
       "50%      30.000000                      421.600000   \n",
       "75%      45.000000                      454.675000   \n",
       "max      56.000000                      586.600000   \n",
       "\n",
       "       incidence_rate_per_100k_high_95  \\\n",
       "count                      2802.000000   \n",
       "mean                        489.252677   \n",
       "std                          64.413099   \n",
       "min                           1.000000   \n",
       "25%                         453.400000   \n",
       "50%                         488.100000   \n",
       "75%                         523.200000   \n",
       "max                         974.300000   \n",
       "\n",
       "       five_year_incidence_change_rate_low_95  \\\n",
       "count                             2788.000000   \n",
       "mean                                -8.198924   \n",
       "std                                  8.497521   \n",
       "min                                -69.200000   \n",
       "25%                                -11.500000   \n",
       "50%                                 -5.900000   \n",
       "75%                                 -2.000000   \n",
       "max                                 11.500000   \n",
       "\n",
       "       five_year_incidence_change_rate_high_95  \n",
       "count                              2788.000000  \n",
       "mean                                  9.326220  \n",
       "std                                  13.807583  \n",
       "min                                 -13.100000  \n",
       "25%                                   1.300000  \n",
       "50%                                   5.500000  \n",
       "75%                                  12.300000  \n",
       "max                                 199.700000  "
      ]
     },
     "execution_count": 496,
     "metadata": {},
     "output_type": "execute_result"
    }
   ],
   "source": [
    "dfCancer.describe()"
   ]
  },
  {
   "cell_type": "markdown",
   "metadata": {},
   "source": [
    "The cancer dataset contains missing values (Nan) in the variables listed in columns 6, 7, 8, and 9 in the table below. For any analysis of the effect of pesticide use on cancer rates, we will likely be using avg_annual_count and incidence_rate_per_100k. There are no missing values in these variables of interest, therefore we will leave the NaN values as is."
   ]
  },
  {
   "cell_type": "code",
   "execution_count": 497,
   "metadata": {
    "scrolled": true
   },
   "outputs": [
    {
     "name": "stdout",
     "output_type": "stream",
     "text": [
      "<class 'pandas.core.frame.DataFrame'>\n",
      "RangeIndex: 3007 entries, 0 to 3006\n",
      "Data columns (total 10 columns):\n",
      " #   Column                                   Non-Null Count  Dtype  \n",
      "---  ------                                   --------------  -----  \n",
      " 0   county                                   3007 non-null   object \n",
      " 1   incidence_rate_per_100k                  3007 non-null   object \n",
      " 2   avg_annual_count                         3007 non-null   object \n",
      " 3   recent_trend                             3007 non-null   object \n",
      " 4   five_year_incidence_change_rate          3007 non-null   object \n",
      " 5   stateFIPS                                3007 non-null   int64  \n",
      " 6   incidence_rate_per_100k_low_95           2802 non-null   float64\n",
      " 7   incidence_rate_per_100k_high_95          2802 non-null   float64\n",
      " 8   five_year_incidence_change_rate_low_95   2788 non-null   float64\n",
      " 9   five_year_incidence_change_rate_high_95  2788 non-null   float64\n",
      "dtypes: float64(4), int64(1), object(5)\n",
      "memory usage: 235.0+ KB\n"
     ]
    }
   ],
   "source": [
    "dfCancer.info()"
   ]
  },
  {
   "cell_type": "markdown",
   "metadata": {},
   "source": [
    "Rename Column names for state code (from STATE_CODE to stateFIPS) and county name (from COUNTY to county) to match the other dataset. This is done for ease of analysis."
   ]
  },
  {
   "cell_type": "code",
   "execution_count": 498,
   "metadata": {},
   "outputs": [
    {
     "data": {
      "text/plain": [
       "Index(['COMPOUND', 'YEAR', 'STATE_CODE', 'COUNTY_CODE', 'LOW_ESTIMATE',\n",
       "       'HIGH_ESTIMATE', 'COUNTY', 'STATE'],\n",
       "      dtype='object')"
      ]
     },
     "execution_count": 498,
     "metadata": {},
     "output_type": "execute_result"
    }
   ],
   "source": [
    "dfPest.columns"
   ]
  },
  {
   "cell_type": "code",
   "execution_count": 499,
   "metadata": {},
   "outputs": [],
   "source": [
    "dfPest.columns=['COMPOUND', 'YEAR', 'stateFIPS', 'COUNTY_CODE', 'LOW_ESTIMATE',\n",
    "       'HIGH_ESTIMATE', 'county', 'STATE']"
   ]
  },
  {
   "cell_type": "markdown",
   "metadata": {},
   "source": [
    "Check the datatypes to verify ability to merge"
   ]
  },
  {
   "cell_type": "code",
   "execution_count": 500,
   "metadata": {},
   "outputs": [
    {
     "data": {
      "text/plain": [
       "COMPOUND          object\n",
       "YEAR               int64\n",
       "stateFIPS          int64\n",
       "COUNTY_CODE        int64\n",
       "LOW_ESTIMATE     float64\n",
       "HIGH_ESTIMATE    float64\n",
       "county            object\n",
       "STATE             object\n",
       "dtype: object"
      ]
     },
     "execution_count": 500,
     "metadata": {},
     "output_type": "execute_result"
    }
   ],
   "source": [
    "dfPest.dtypes"
   ]
  },
  {
   "cell_type": "code",
   "execution_count": 501,
   "metadata": {},
   "outputs": [
    {
     "data": {
      "text/plain": [
       "county                                      object\n",
       "incidence_rate_per_100k                     object\n",
       "avg_annual_count                            object\n",
       "recent_trend                                object\n",
       "five_year_incidence_change_rate             object\n",
       "stateFIPS                                    int64\n",
       "incidence_rate_per_100k_low_95             float64\n",
       "incidence_rate_per_100k_high_95            float64\n",
       "five_year_incidence_change_rate_low_95     float64\n",
       "five_year_incidence_change_rate_high_95    float64\n",
       "dtype: object"
      ]
     },
     "execution_count": 501,
     "metadata": {},
     "output_type": "execute_result"
    }
   ],
   "source": [
    "dfCancer.dtypes"
   ]
  },
  {
   "cell_type": "markdown",
   "metadata": {},
   "source": [
    "Convert county from object to string for both datasets to enable merge on county name (since cancer dataset doesn't have a county code, we can't use county code for merge)\n",
    "\n",
    "Also need to convert avg_annual_count from an object to a float so that plotting is possible."
   ]
  },
  {
   "cell_type": "code",
   "execution_count": 502,
   "metadata": {},
   "outputs": [],
   "source": [
    "dfCancer['county'] = dfCancer['county'].astype(\"string\")"
   ]
  },
  {
   "cell_type": "code",
   "execution_count": 503,
   "metadata": {},
   "outputs": [],
   "source": [
    "dfPest['county'] = dfPest['county'].astype(\"string\")"
   ]
  },
  {
   "cell_type": "code",
   "execution_count": 504,
   "metadata": {},
   "outputs": [],
   "source": [
    "dfCancer['recent_trend'] = dfCancer['recent_trend'].astype(\"string\")"
   ]
  },
  {
   "cell_type": "code",
   "execution_count": 505,
   "metadata": {},
   "outputs": [],
   "source": [
    "dfCancer['avg_annual_count'] = pd.to_numeric(dfCancer.avg_annual_count, errors='coerce')"
   ]
  },
  {
   "cell_type": "markdown",
   "metadata": {},
   "source": [
    "Verify type of county is now a string, and avg_annual_count is now a float"
   ]
  },
  {
   "cell_type": "code",
   "execution_count": 506,
   "metadata": {},
   "outputs": [
    {
     "data": {
      "text/plain": [
       "county                                      string\n",
       "incidence_rate_per_100k                     object\n",
       "avg_annual_count                           float64\n",
       "recent_trend                                string\n",
       "five_year_incidence_change_rate             object\n",
       "stateFIPS                                    int64\n",
       "incidence_rate_per_100k_low_95             float64\n",
       "incidence_rate_per_100k_high_95            float64\n",
       "five_year_incidence_change_rate_low_95     float64\n",
       "five_year_incidence_change_rate_high_95    float64\n",
       "dtype: object"
      ]
     },
     "execution_count": 506,
     "metadata": {},
     "output_type": "execute_result"
    }
   ],
   "source": [
    "dfCancer.dtypes"
   ]
  },
  {
   "cell_type": "raw",
   "metadata": {},
   "source": [
    "dfPest.dtypes"
   ]
  },
  {
   "cell_type": "markdown",
   "metadata": {},
   "source": [
    "Strip extra spaces at the end of dfCancer.county string (I used dfCancer.county = dfCancer.county.str.encode(\n",
    "'utf-8') and dfPest.county=dfPest.county.str.encode('utf-8') to verify whether or not the strings were the same. The dfCancer string had extra spaces at the end of its string; therefore I stripped those spaces using the following command:"
   ]
  },
  {
   "cell_type": "code",
   "execution_count": 507,
   "metadata": {},
   "outputs": [],
   "source": [
    "dfCancer.county = dfCancer.county.str.strip()"
   ]
  },
  {
   "cell_type": "markdown",
   "metadata": {},
   "source": [
    "## Merging Pesticide and Cancer datasets"
   ]
  },
  {
   "cell_type": "markdown",
   "metadata": {},
   "source": [
    "Create 2 datasets from the Pesticide dataset. Select only the pesticide Glyphosate from the pesticide data for ease of analysis."
   ]
  },
  {
   "cell_type": "code",
   "execution_count": 508,
   "metadata": {},
   "outputs": [],
   "source": [
    "dfGlyph=dfPest.query(\"COMPOUND == 'Glyphosate'\")[['COMPOUND', 'YEAR', 'stateFIPS', 'COUNTY_CODE', 'LOW_ESTIMATE',\n",
    "       'HIGH_ESTIMATE', 'county', 'STATE']]"
   ]
  },
  {
   "cell_type": "code",
   "execution_count": 509,
   "metadata": {},
   "outputs": [],
   "source": [
    "dfGlyphCombined=pd.merge(dfGlyph, dfCancer, left_on=['county', 'stateFIPS'], right_on=['county', 'stateFIPS'])"
   ]
  },
  {
   "cell_type": "markdown",
   "metadata": {},
   "source": [
    "Create a dataset that combines all the Pesticides data and the Cancer data"
   ]
  },
  {
   "cell_type": "code",
   "execution_count": 510,
   "metadata": {},
   "outputs": [],
   "source": [
    "dfAllCombined=pd.merge(dfPest, dfCancer, left_on=['county', 'stateFIPS'], right_on=['county', 'stateFIPS'])"
   ]
  },
  {
   "cell_type": "code",
   "execution_count": 511,
   "metadata": {},
   "outputs": [
    {
     "data": {
      "text/html": [
       "<div>\n",
       "<style scoped>\n",
       "    .dataframe tbody tr th:only-of-type {\n",
       "        vertical-align: middle;\n",
       "    }\n",
       "\n",
       "    .dataframe tbody tr th {\n",
       "        vertical-align: top;\n",
       "    }\n",
       "\n",
       "    .dataframe thead th {\n",
       "        text-align: right;\n",
       "    }\n",
       "</style>\n",
       "<table border=\"1\" class=\"dataframe\">\n",
       "  <thead>\n",
       "    <tr style=\"text-align: right;\">\n",
       "      <th></th>\n",
       "      <th>COMPOUND</th>\n",
       "      <th>YEAR</th>\n",
       "      <th>stateFIPS</th>\n",
       "      <th>COUNTY_CODE</th>\n",
       "      <th>LOW_ESTIMATE</th>\n",
       "      <th>HIGH_ESTIMATE</th>\n",
       "      <th>county</th>\n",
       "      <th>STATE</th>\n",
       "      <th>incidence_rate_per_100k</th>\n",
       "      <th>avg_annual_count</th>\n",
       "      <th>recent_trend</th>\n",
       "      <th>five_year_incidence_change_rate</th>\n",
       "      <th>incidence_rate_per_100k_low_95</th>\n",
       "      <th>incidence_rate_per_100k_high_95</th>\n",
       "      <th>five_year_incidence_change_rate_low_95</th>\n",
       "      <th>five_year_incidence_change_rate_high_95</th>\n",
       "    </tr>\n",
       "  </thead>\n",
       "  <tbody>\n",
       "    <tr>\n",
       "      <th>0</th>\n",
       "      <td>2,4-D</td>\n",
       "      <td>2014</td>\n",
       "      <td>1</td>\n",
       "      <td>1</td>\n",
       "      <td>1698.6</td>\n",
       "      <td>1885.5</td>\n",
       "      <td>Autauga County</td>\n",
       "      <td>AL</td>\n",
       "      <td>495.6</td>\n",
       "      <td>304.0</td>\n",
       "      <td>stable</td>\n",
       "      <td>-0.2</td>\n",
       "      <td>470.6</td>\n",
       "      <td>521.5</td>\n",
       "      <td>-9.0</td>\n",
       "      <td>9.6</td>\n",
       "    </tr>\n",
       "    <tr>\n",
       "      <th>1</th>\n",
       "      <td>2,4-DB</td>\n",
       "      <td>2014</td>\n",
       "      <td>1</td>\n",
       "      <td>1</td>\n",
       "      <td>82.8</td>\n",
       "      <td>264.3</td>\n",
       "      <td>Autauga County</td>\n",
       "      <td>AL</td>\n",
       "      <td>495.6</td>\n",
       "      <td>304.0</td>\n",
       "      <td>stable</td>\n",
       "      <td>-0.2</td>\n",
       "      <td>470.6</td>\n",
       "      <td>521.5</td>\n",
       "      <td>-9.0</td>\n",
       "      <td>9.6</td>\n",
       "    </tr>\n",
       "    <tr>\n",
       "      <th>2</th>\n",
       "      <td>Abamectin</td>\n",
       "      <td>2014</td>\n",
       "      <td>1</td>\n",
       "      <td>1</td>\n",
       "      <td>8.6</td>\n",
       "      <td>8.9</td>\n",
       "      <td>Autauga County</td>\n",
       "      <td>AL</td>\n",
       "      <td>495.6</td>\n",
       "      <td>304.0</td>\n",
       "      <td>stable</td>\n",
       "      <td>-0.2</td>\n",
       "      <td>470.6</td>\n",
       "      <td>521.5</td>\n",
       "      <td>-9.0</td>\n",
       "      <td>9.6</td>\n",
       "    </tr>\n",
       "    <tr>\n",
       "      <th>3</th>\n",
       "      <td>Acephate</td>\n",
       "      <td>2014</td>\n",
       "      <td>1</td>\n",
       "      <td>1</td>\n",
       "      <td>707.9</td>\n",
       "      <td>707.9</td>\n",
       "      <td>Autauga County</td>\n",
       "      <td>AL</td>\n",
       "      <td>495.6</td>\n",
       "      <td>304.0</td>\n",
       "      <td>stable</td>\n",
       "      <td>-0.2</td>\n",
       "      <td>470.6</td>\n",
       "      <td>521.5</td>\n",
       "      <td>-9.0</td>\n",
       "      <td>9.6</td>\n",
       "    </tr>\n",
       "    <tr>\n",
       "      <th>4</th>\n",
       "      <td>Acetochlor</td>\n",
       "      <td>2014</td>\n",
       "      <td>1</td>\n",
       "      <td>1</td>\n",
       "      <td>649.5</td>\n",
       "      <td>859.5</td>\n",
       "      <td>Autauga County</td>\n",
       "      <td>AL</td>\n",
       "      <td>495.6</td>\n",
       "      <td>304.0</td>\n",
       "      <td>stable</td>\n",
       "      <td>-0.2</td>\n",
       "      <td>470.6</td>\n",
       "      <td>521.5</td>\n",
       "      <td>-9.0</td>\n",
       "      <td>9.6</td>\n",
       "    </tr>\n",
       "  </tbody>\n",
       "</table>\n",
       "</div>"
      ],
      "text/plain": [
       "     COMPOUND  YEAR  stateFIPS  COUNTY_CODE  LOW_ESTIMATE  HIGH_ESTIMATE  \\\n",
       "0       2,4-D  2014          1            1        1698.6         1885.5   \n",
       "1      2,4-DB  2014          1            1          82.8          264.3   \n",
       "2   Abamectin  2014          1            1           8.6            8.9   \n",
       "3    Acephate  2014          1            1         707.9          707.9   \n",
       "4  Acetochlor  2014          1            1         649.5          859.5   \n",
       "\n",
       "           county STATE incidence_rate_per_100k  avg_annual_count  \\\n",
       "0  Autauga County    AL                  495.6              304.0   \n",
       "1  Autauga County    AL                  495.6              304.0   \n",
       "2  Autauga County    AL                  495.6              304.0   \n",
       "3  Autauga County    AL                  495.6              304.0   \n",
       "4  Autauga County    AL                  495.6              304.0   \n",
       "\n",
       "  recent_trend five_year_incidence_change_rate  \\\n",
       "0       stable                           -0.2    \n",
       "1       stable                           -0.2    \n",
       "2       stable                           -0.2    \n",
       "3       stable                           -0.2    \n",
       "4       stable                           -0.2    \n",
       "\n",
       "   incidence_rate_per_100k_low_95  incidence_rate_per_100k_high_95  \\\n",
       "0                           470.6                            521.5   \n",
       "1                           470.6                            521.5   \n",
       "2                           470.6                            521.5   \n",
       "3                           470.6                            521.5   \n",
       "4                           470.6                            521.5   \n",
       "\n",
       "   five_year_incidence_change_rate_low_95  \\\n",
       "0                                    -9.0   \n",
       "1                                    -9.0   \n",
       "2                                    -9.0   \n",
       "3                                    -9.0   \n",
       "4                                    -9.0   \n",
       "\n",
       "   five_year_incidence_change_rate_high_95  \n",
       "0                                      9.6  \n",
       "1                                      9.6  \n",
       "2                                      9.6  \n",
       "3                                      9.6  \n",
       "4                                      9.6  "
      ]
     },
     "execution_count": 511,
     "metadata": {},
     "output_type": "execute_result"
    }
   ],
   "source": [
    "dfAllCombined.head()"
   ]
  },
  {
   "cell_type": "markdown",
   "metadata": {},
   "source": [
    "Export combined dataset to csv file"
   ]
  },
  {
   "cell_type": "code",
   "execution_count": 512,
   "metadata": {},
   "outputs": [],
   "source": [
    "dfAllCombined.to_csv('finalDataset.csv')"
   ]
  },
  {
   "cell_type": "code",
   "execution_count": 513,
   "metadata": {},
   "outputs": [],
   "source": [
    "dfGlyphCombined.to_csv('glyphosateCombinedData.csv')"
   ]
  },
  {
   "cell_type": "markdown",
   "metadata": {},
   "source": [
    "## Visualization"
   ]
  },
  {
   "cell_type": "markdown",
   "metadata": {},
   "source": [
    "Here, we make some simple line graphs which plot the high and low pesticide estimates (for glyphosate only) alongside the average annual cancer count for specific counties. I chose to choose 3 counties--one from each category of cancer trend rate. These categories are rising, stable, and falling.\n",
    "\n",
    "The graphs below do not provide much value as they are now, since it is difficult to see the trend of the cancer counts due to scale of the graph when plotted with the pesticide rates. However, we can glean some information based on the recent trend compared to the graphs:\n",
    "\n",
    "1. For the county where the cancer rates are trending up, the graph shows an increase in the pesticide estimates.\n",
    "2. For the county where the cancer rates are stable, the graph doesn't show any conclusive trend in pesticide use.\n",
    "3. For the county where the cancer rates are trending down, the graph shows a decrease in the rate of pesticide use."
   ]
  },
  {
   "cell_type": "code",
   "execution_count": 514,
   "metadata": {},
   "outputs": [
    {
     "data": {
      "text/html": [
       "<div>\n",
       "<style scoped>\n",
       "    .dataframe tbody tr th:only-of-type {\n",
       "        vertical-align: middle;\n",
       "    }\n",
       "\n",
       "    .dataframe tbody tr th {\n",
       "        vertical-align: top;\n",
       "    }\n",
       "\n",
       "    .dataframe thead th {\n",
       "        text-align: right;\n",
       "    }\n",
       "</style>\n",
       "<table border=\"1\" class=\"dataframe\">\n",
       "  <thead>\n",
       "    <tr style=\"text-align: right;\">\n",
       "      <th></th>\n",
       "      <th>COMPOUND</th>\n",
       "      <th>YEAR</th>\n",
       "      <th>stateFIPS</th>\n",
       "      <th>COUNTY_CODE</th>\n",
       "      <th>county</th>\n",
       "      <th>STATE</th>\n",
       "      <th>recent_trend</th>\n",
       "    </tr>\n",
       "  </thead>\n",
       "  <tbody>\n",
       "    <tr>\n",
       "      <th>40</th>\n",
       "      <td>Glyphosate</td>\n",
       "      <td>2014</td>\n",
       "      <td>1</td>\n",
       "      <td>41</td>\n",
       "      <td>Crenshaw County</td>\n",
       "      <td>AL</td>\n",
       "      <td>rising</td>\n",
       "    </tr>\n",
       "    <tr>\n",
       "      <th>41</th>\n",
       "      <td>Glyphosate</td>\n",
       "      <td>2015</td>\n",
       "      <td>1</td>\n",
       "      <td>41</td>\n",
       "      <td>Crenshaw County</td>\n",
       "      <td>AL</td>\n",
       "      <td>rising</td>\n",
       "    </tr>\n",
       "    <tr>\n",
       "      <th>50</th>\n",
       "      <td>Glyphosate</td>\n",
       "      <td>2014</td>\n",
       "      <td>1</td>\n",
       "      <td>51</td>\n",
       "      <td>Elmore County</td>\n",
       "      <td>AL</td>\n",
       "      <td>rising</td>\n",
       "    </tr>\n",
       "    <tr>\n",
       "      <th>51</th>\n",
       "      <td>Glyphosate</td>\n",
       "      <td>2015</td>\n",
       "      <td>1</td>\n",
       "      <td>51</td>\n",
       "      <td>Elmore County</td>\n",
       "      <td>AL</td>\n",
       "      <td>rising</td>\n",
       "    </tr>\n",
       "    <tr>\n",
       "      <th>84</th>\n",
       "      <td>Glyphosate</td>\n",
       "      <td>2014</td>\n",
       "      <td>1</td>\n",
       "      <td>85</td>\n",
       "      <td>Lowndes County</td>\n",
       "      <td>AL</td>\n",
       "      <td>rising</td>\n",
       "    </tr>\n",
       "  </tbody>\n",
       "</table>\n",
       "</div>"
      ],
      "text/plain": [
       "      COMPOUND  YEAR  stateFIPS  COUNTY_CODE           county STATE  \\\n",
       "40  Glyphosate  2014          1           41  Crenshaw County    AL   \n",
       "41  Glyphosate  2015          1           41  Crenshaw County    AL   \n",
       "50  Glyphosate  2014          1           51    Elmore County    AL   \n",
       "51  Glyphosate  2015          1           51    Elmore County    AL   \n",
       "84  Glyphosate  2014          1           85   Lowndes County    AL   \n",
       "\n",
       "   recent_trend  \n",
       "40       rising  \n",
       "41       rising  \n",
       "50       rising  \n",
       "51       rising  \n",
       "84       rising  "
      ]
     },
     "execution_count": 514,
     "metadata": {},
     "output_type": "execute_result"
    }
   ],
   "source": [
    "dfGlyphCombined.query(\"recent_trend == 'rising'\")[['COMPOUND', 'YEAR', 'stateFIPS', 'COUNTY_CODE', 'county', 'STATE', 'recent_trend']].head()"
   ]
  },
  {
   "cell_type": "code",
   "execution_count": 515,
   "metadata": {},
   "outputs": [
    {
     "data": {
      "text/html": [
       "<div>\n",
       "<style scoped>\n",
       "    .dataframe tbody tr th:only-of-type {\n",
       "        vertical-align: middle;\n",
       "    }\n",
       "\n",
       "    .dataframe tbody tr th {\n",
       "        vertical-align: top;\n",
       "    }\n",
       "\n",
       "    .dataframe thead th {\n",
       "        text-align: right;\n",
       "    }\n",
       "</style>\n",
       "<table border=\"1\" class=\"dataframe\">\n",
       "  <thead>\n",
       "    <tr style=\"text-align: right;\">\n",
       "      <th></th>\n",
       "      <th>COMPOUND</th>\n",
       "      <th>YEAR</th>\n",
       "      <th>stateFIPS</th>\n",
       "      <th>COUNTY_CODE</th>\n",
       "      <th>county</th>\n",
       "      <th>STATE</th>\n",
       "      <th>recent_trend</th>\n",
       "    </tr>\n",
       "  </thead>\n",
       "  <tbody>\n",
       "    <tr>\n",
       "      <th>0</th>\n",
       "      <td>Glyphosate</td>\n",
       "      <td>2014</td>\n",
       "      <td>1</td>\n",
       "      <td>1</td>\n",
       "      <td>Autauga County</td>\n",
       "      <td>AL</td>\n",
       "      <td>stable</td>\n",
       "    </tr>\n",
       "    <tr>\n",
       "      <th>1</th>\n",
       "      <td>Glyphosate</td>\n",
       "      <td>2015</td>\n",
       "      <td>1</td>\n",
       "      <td>1</td>\n",
       "      <td>Autauga County</td>\n",
       "      <td>AL</td>\n",
       "      <td>stable</td>\n",
       "    </tr>\n",
       "    <tr>\n",
       "      <th>2</th>\n",
       "      <td>Glyphosate</td>\n",
       "      <td>2014</td>\n",
       "      <td>1</td>\n",
       "      <td>3</td>\n",
       "      <td>Baldwin County</td>\n",
       "      <td>AL</td>\n",
       "      <td>stable</td>\n",
       "    </tr>\n",
       "    <tr>\n",
       "      <th>3</th>\n",
       "      <td>Glyphosate</td>\n",
       "      <td>2015</td>\n",
       "      <td>1</td>\n",
       "      <td>3</td>\n",
       "      <td>Baldwin County</td>\n",
       "      <td>AL</td>\n",
       "      <td>stable</td>\n",
       "    </tr>\n",
       "    <tr>\n",
       "      <th>4</th>\n",
       "      <td>Glyphosate</td>\n",
       "      <td>2014</td>\n",
       "      <td>1</td>\n",
       "      <td>5</td>\n",
       "      <td>Barbour County</td>\n",
       "      <td>AL</td>\n",
       "      <td>stable</td>\n",
       "    </tr>\n",
       "  </tbody>\n",
       "</table>\n",
       "</div>"
      ],
      "text/plain": [
       "     COMPOUND  YEAR  stateFIPS  COUNTY_CODE          county STATE recent_trend\n",
       "0  Glyphosate  2014          1            1  Autauga County    AL       stable\n",
       "1  Glyphosate  2015          1            1  Autauga County    AL       stable\n",
       "2  Glyphosate  2014          1            3  Baldwin County    AL       stable\n",
       "3  Glyphosate  2015          1            3  Baldwin County    AL       stable\n",
       "4  Glyphosate  2014          1            5  Barbour County    AL       stable"
      ]
     },
     "execution_count": 515,
     "metadata": {},
     "output_type": "execute_result"
    }
   ],
   "source": [
    "dfGlyphCombined.query(\"recent_trend == 'stable'\")[['COMPOUND', 'YEAR', 'stateFIPS', 'COUNTY_CODE', 'county', 'STATE', 'recent_trend']].head()"
   ]
  },
  {
   "cell_type": "code",
   "execution_count": 516,
   "metadata": {},
   "outputs": [
    {
     "data": {
      "text/html": [
       "<div>\n",
       "<style scoped>\n",
       "    .dataframe tbody tr th:only-of-type {\n",
       "        vertical-align: middle;\n",
       "    }\n",
       "\n",
       "    .dataframe tbody tr th {\n",
       "        vertical-align: top;\n",
       "    }\n",
       "\n",
       "    .dataframe thead th {\n",
       "        text-align: right;\n",
       "    }\n",
       "</style>\n",
       "<table border=\"1\" class=\"dataframe\">\n",
       "  <thead>\n",
       "    <tr style=\"text-align: right;\">\n",
       "      <th></th>\n",
       "      <th>COMPOUND</th>\n",
       "      <th>YEAR</th>\n",
       "      <th>stateFIPS</th>\n",
       "      <th>COUNTY_CODE</th>\n",
       "      <th>county</th>\n",
       "      <th>STATE</th>\n",
       "      <th>recent_trend</th>\n",
       "    </tr>\n",
       "  </thead>\n",
       "  <tbody>\n",
       "    <tr>\n",
       "      <th>3970</th>\n",
       "      <td>Glyphosate</td>\n",
       "      <td>2015</td>\n",
       "      <td>53</td>\n",
       "      <td>75</td>\n",
       "      <td>Whitman County</td>\n",
       "      <td>WA</td>\n",
       "      <td>falling</td>\n",
       "    </tr>\n",
       "    <tr>\n",
       "      <th>4109</th>\n",
       "      <td>Glyphosate</td>\n",
       "      <td>2014</td>\n",
       "      <td>55</td>\n",
       "      <td>27</td>\n",
       "      <td>Dodge County</td>\n",
       "      <td>WI</td>\n",
       "      <td>falling</td>\n",
       "    </tr>\n",
       "    <tr>\n",
       "      <th>4110</th>\n",
       "      <td>Glyphosate</td>\n",
       "      <td>2015</td>\n",
       "      <td>55</td>\n",
       "      <td>27</td>\n",
       "      <td>Dodge County</td>\n",
       "      <td>WI</td>\n",
       "      <td>falling</td>\n",
       "    </tr>\n",
       "    <tr>\n",
       "      <th>4250</th>\n",
       "      <td>Glyphosate</td>\n",
       "      <td>2014</td>\n",
       "      <td>56</td>\n",
       "      <td>25</td>\n",
       "      <td>Natrona County</td>\n",
       "      <td>WY</td>\n",
       "      <td>falling</td>\n",
       "    </tr>\n",
       "    <tr>\n",
       "      <th>4251</th>\n",
       "      <td>Glyphosate</td>\n",
       "      <td>2015</td>\n",
       "      <td>56</td>\n",
       "      <td>25</td>\n",
       "      <td>Natrona County</td>\n",
       "      <td>WY</td>\n",
       "      <td>falling</td>\n",
       "    </tr>\n",
       "  </tbody>\n",
       "</table>\n",
       "</div>"
      ],
      "text/plain": [
       "        COMPOUND  YEAR  stateFIPS  COUNTY_CODE          county STATE  \\\n",
       "3970  Glyphosate  2015         53           75  Whitman County    WA   \n",
       "4109  Glyphosate  2014         55           27    Dodge County    WI   \n",
       "4110  Glyphosate  2015         55           27    Dodge County    WI   \n",
       "4250  Glyphosate  2014         56           25  Natrona County    WY   \n",
       "4251  Glyphosate  2015         56           25  Natrona County    WY   \n",
       "\n",
       "     recent_trend  \n",
       "3970      falling  \n",
       "4109      falling  \n",
       "4110      falling  \n",
       "4250      falling  \n",
       "4251      falling  "
      ]
     },
     "execution_count": 516,
     "metadata": {},
     "output_type": "execute_result"
    }
   ],
   "source": [
    "dfGlyphCombined.query(\"recent_trend == 'falling'\")[['COMPOUND', 'YEAR', 'stateFIPS', 'COUNTY_CODE', 'county', 'STATE', 'recent_trend']].tail()"
   ]
  },
  {
   "cell_type": "code",
   "execution_count": 517,
   "metadata": {},
   "outputs": [
    {
     "data": {
      "image/png": "[encoded data removed]",
      "text/plain": [
       "<Figure size 432x288 with 1 Axes>"
      ]
     },
     "metadata": {
      "needs_background": "light"
     },
     "output_type": "display_data"
    }
   ],
   "source": [
    "ax = plt.gca()\n",
    "\n",
    "dfGlyphCombined.query(\"county == 'Lowndes County' and COUNTY_CODE==85\").plot(kind='line',x='YEAR',y='HIGH_ESTIMATE',ax=ax)\n",
    "dfGlyphCombined.query(\"county == 'Lowndes County' and COUNTY_CODE==85\").plot(kind='line',x='YEAR',y='avg_annual_count', color='red', ax=ax)\n",
    "dfGlyphCombined.query(\"county == 'Lowndes County' and COUNTY_CODE==85\").plot(kind='line',x='YEAR',y='LOW_ESTIMATE', color='green', ax=ax)\n",
    "\n",
    "plt.title('Pesticide and Cancer Count (Lowndes County - rising cancer rates)')\n",
    "plt.xlabel('Year')\n",
    "ax.legend([\"High pesticide estimate\", \"Avg annual cancer count\", \"Low pesticide estimate\"]);\n",
    "\n",
    "plt.show()"
   ]
  },
  {
   "cell_type": "code",
   "execution_count": 518,
   "metadata": {},
   "outputs": [
    {
     "data": {
      "image/png": "[encoded data removed]",
      "text/plain": [
       "<Figure size 432x288 with 1 Axes>"
      ]
     },
     "metadata": {
      "needs_background": "light"
     },
     "output_type": "display_data"
    }
   ],
   "source": [
    "ax = plt.gca()\n",
    "\n",
    "dfGlyphCombined.query(\"county == 'Barbour County' and COUNTY_CODE==1\").plot(kind='line',x='YEAR',y='HIGH_ESTIMATE',ax=ax)\n",
    "dfGlyphCombined.query(\"county == 'Barbour County' and COUNTY_CODE==1\").plot(kind='line',x='YEAR',y='avg_annual_count', color='red', ax=ax)\n",
    "dfGlyphCombined.query(\"county == 'Barbour County' and COUNTY_CODE==1\").plot(kind='line',x='YEAR',y='LOW_ESTIMATE', color='green', ax=ax)\n",
    "\n",
    "plt.title('Pesticide and Cancer Count (Barbor County - stable cancer rates)')\n",
    "plt.xlabel('Year')\n",
    "ax.legend([\"High pesticide estimate\", \"Avg annual cancer count\", \"Low pesticide estimate\"]);\n",
    "\n",
    "plt.show()"
   ]
  },
  {
   "cell_type": "code",
   "execution_count": 519,
   "metadata": {},
   "outputs": [
    {
     "data": {
      "image/png": "[encoded data removed]",
      "text/plain": [
       "<Figure size 432x288 with 1 Axes>"
      ]
     },
     "metadata": {
      "needs_background": "light"
     },
     "output_type": "display_data"
    }
   ],
   "source": [
    "ax = plt.gca()\n",
    "\n",
    "dfGlyphCombined.query(\"county == 'Natrona County' and COUNTY_CODE==25\").plot(kind='line',x='YEAR',y='HIGH_ESTIMATE',ax=ax)\n",
    "dfGlyphCombined.query(\"county == 'Natrona County' and COUNTY_CODE==25\").plot(kind='line',x='YEAR',y='avg_annual_count', color='red', ax=ax)\n",
    "dfGlyphCombined.query(\"county == 'Natrona County' and COUNTY_CODE==25\").plot(kind='line',x='YEAR',y='LOW_ESTIMATE', color='green', ax=ax)\n",
    "\n",
    "plt.title('Pesticide and Cancer Count (Natrona County - falling cancer rates)')\n",
    "plt.xlabel('Year')\n",
    "ax.legend([\"High pesticide estimate\", \"Avg annual cancer count\", \"Low pesticide estimate\"]);\n",
    "\n",
    "plt.show()"
   ]
  },
  {
   "cell_type": "markdown",
   "metadata": {},
   "source": [
    "## Summary"
   ]
  },
  {
   "cell_type": "markdown",
   "metadata": {},
   "source": [
    "Based on a cursory look at pesticide rates and cancer incidence trends, it appears that the two move together. In other words, as pesticide use rises, cancer rates rise and vice versa. This is of course only a general hypothesis. More rigourous analysis would be needed to determine a correlation and perhaps even causation between the two. As an expansion I would like to group the data by states, and also create a map graphic of count by state."
   ]
  }
 ],
 "metadata": {
  "kernelspec": {
   "display_name": "Python 3",
   "language": "python",
   "name": "python3"
  },
  "language_info": {
   "codemirror_mode": {
    "name": "ipython",
    "version": 3
   },
   "file_extension": ".py",
   "mimetype": "text/x-python",
   "name": "python",
   "nbconvert_exporter": "python",
   "pygments_lexer": "ipython3",
   "version": "3.8.3"
  }
 },
 "nbformat": 4,
 "nbformat_minor": 4
}
